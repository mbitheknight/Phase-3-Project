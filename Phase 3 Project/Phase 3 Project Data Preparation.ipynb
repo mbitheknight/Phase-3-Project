{
 "cells": [
  {
   "cell_type": "markdown",
   "id": "67f8bb18-188b-4679-92c1-16a0a8e46d19",
   "metadata": {},
   "source": [
    "# Predicting the Condition of Tanzanian Water Wells: A Machine Learning Approach to Maintenance and Sustainability"
   ]
  },
  {
   "cell_type": "markdown",
   "id": "2a7c7b99-3b0a-4d2d-b450-abbd608632cd",
   "metadata": {},
   "source": [
    "<img src=\"https://www.shutterstock.com/image-photo/abuja-nigeria-august-02-2021-600nw-2018049758.jpg\" style=\"width:100%; height:auto;\">"
   ]
  },
  {
   "cell_type": "markdown",
   "id": "38dcd565-94f3-4645-abd7-d26ade1a3e42",
   "metadata": {},
   "source": [
    "# Business Understanding\r\n",
    "\r\n",
    "## Project Overview\r\n",
    "\r\n",
    "Tanzania, with a population of over 57 million, faces significant challenges in providing reliable access to clean water, particularly in rural areas where approximately 70% of the population resides. Many water wells, essential for communities, are either in disrepair or have failed. According to the Tanzanian Ministry of Water, over 40% of water points are non-functional and in need of repair.\r\n",
    "\r\n",
    "Despite ongoing efforts by the government and NGOs, the country struggles with limited resources for the maintenance and monitoring of its water wells. A large portion of these wells require constant monitoring, but the current manual inspection methods are inefficient. Only about 10,000 wells out of the 40,000 requiring repair are inspected annually, leading to many wells being unmonitored for extended periods.\r\n",
    "\r\n",
    "A predictive model based on available data such as pump type, installation year, maintenance records, and geographical location could greatly improve the speed and accuracy of identifying wells in need of repair. This model would help stakeholders prioritize repairs, ultimately ensuring continued access to clean water for rural communities.\r\n",
    "\r\n",
    "## Problem Statement\r\n",
    "\r\n",
    "Tanzania’s water infrastructure faces significant challenges, with many water wells either at risk of failure or in need of repair. The current monitoring system relies on manual inspections, which are slow and inefficient. With approximately 40% of the country's water wells non-functional, there is an urgent need for an efficient, data-driven approach to predict which wells are most likely to fail.\r\n",
    "\r\n",
    "Existing manual methods inspect only a fraction of the wells annually, leaving many communities without access to safe water. Each failed well can impact between 500-1,000 people, contributing to water scarcity and health risks.\r\n",
    "\r\n",
    "A predictive model is needed to help identify wells at risk of failure, enabling timely interventions to ensure continued access to clean water.\r\n",
    "\r\n",
    "## Objectives\r\n",
    "\r\n",
    "### Main Objective\r\n",
    "To develop a machine learning classifier that predicts the condition of water wells in Tanzania based on available features such as pump type, installation year, maintenance history, and geographical location.\r\n",
    "\r\n",
    "### Specific Objectives\r\n",
    "1. To preprocess the provided historical data related to water wells, ensuring it is clean and ready for model training.\r\n",
    "2. To analyze the dataset to identify important features and understand the relationships between variables that influence well conditions.\r\n",
    "3. To train and evaluate at least three classification models (Logistic Regression as a baseline, Decision Tree before tuning, and Hyper-tuned Decision Trees) to determine the best-performing model for predicting well conditions.\r\n",
    "4. To optimize the selected model's performance by tuning hyperparameters and improving classification metrics such as accuracy, precision, recall, and F1 score.\r\n",
    "\r\n",
    "## Success Criteria\r\n",
    "\r\n",
    "- **Accuracy**: The model should achieve an accuracy score of 75% or higher, meaning it correctly predicts the condition of water wells in at least 75% of cases.\r\n",
    "- **Precision**: The model should aim for a precision score of 75%, ensuring that when it predicts a well needs repair, it is correct 75% of the time.\r\n",
    "- **Recall**: The model should aim for a recall score of 75%, ensuring that it identifies 75% of wells in need of repair.\r\n",
    "- **F1 Score**: A balanced F1 score above 0.75 is expected, reflecting a good balance between precision and recall in identifying wells needing repair.\r\n",
    "ll in identifying wells needing repair.\r\n"
   ]
  },
  {
   "cell_type": "markdown",
   "id": "af03cc78-bae6-4918-81c5-026158ddcb4f",
   "metadata": {},
   "source": [
    "# Data Understanding\n",
    "Import the relevant libraries "
   ]
  },
  {
   "cell_type": "code",
   "execution_count": 324,
   "id": "6786350e-55db-4c44-8d92-0cab37668aba",
   "metadata": {},
   "outputs": [],
   "source": [
    "# Relevant libraries\n",
    "import nbimporter\n",
    "import pandas as pd\n",
    "import numpy as np\n",
    "import matplotlib.pyplot as plt\n",
    "import seaborn as sns\n",
    "import os\n",
    "import warnings\n",
    "warnings.filterwarnings('ignore') \n",
    "from sklearn.preprocessing import LabelEncoder\n",
    "from statsmodels.stats.outliers_influence import variance_inflation_factor\n",
    "from statsmodels.tools.tools import add_constant\n",
    "from imblearn.over_sampling import SMOTE\n",
    "from sklearn.preprocessing import StandardScaler, OrdinalEncoder\n",
    "from sklearn.model_selection import train_test_split\n",
    "from sklearn.linear_model import LogisticRegression\n",
    "from sklearn.tree import DecisionTreeClassifier\n",
    "from sklearn.ensemble import RandomForestClassifier\n",
    "from statsmodels.tools.tools import add_constant\n",
    "from sklearn.decomposition import PCA\n",
    "import plotly.express as px\n",
    "from statsmodels.tsa.stattools import adfuller\n",
    "from collections import Counter\n",
    "from sklearn.metrics import accuracy_score, classification_report, confusion_matrix, roc_auc_score, roc_curve\n"
   ]
  },
  {
   "cell_type": "markdown",
   "id": "07007cf2-e9d0-45e9-ac24-4e4231c51157",
   "metadata": {},
   "source": [
    "### 1. Load the data\n",
    "There are three datasets: train_values, train_labels and test_values"
   ]
  },
  {
   "cell_type": "code",
   "execution_count": 326,
   "id": "ad1682dd-6f86-4ca0-bbbd-6928684c94db",
   "metadata": {},
   "outputs": [],
   "source": [
    "# To avail the classes notebook\n",
    "%run Phase_3_Project_Classes.ipynb\n",
    "# Loading the data for the 3 datasets\n",
    "data_understanding = DataUnderstanding('Raw Data/Train set values.csv', 'Raw Data/Train set labels.csv', 'Raw Data/Test set values.csv')\n"
   ]
  },
  {
   "cell_type": "markdown",
   "id": "3a281245-5ba9-40bb-b6aa-4d70f5932d70",
   "metadata": {},
   "source": [
    "### 2. Examine the basic properties"
   ]
  },
  {
   "cell_type": "markdown",
   "id": "f85f1aa1-1573-4a60-8546-0bcc8744d09c",
   "metadata": {},
   "source": [
    "The basic properties of a dataset provide a snapshot of its structure, including the first few rows, the number of rows and columns (shape), the general information of the dataframes including data types and non-null values in each column, and a list of all the column names."
   ]
  },
  {
   "cell_type": "markdown",
   "id": "14a2d7fe-f1f8-404d-9dec-d3e750ce5491",
   "metadata": {},
   "source": [
    "#### Train_values"
   ]
  },
  {
   "cell_type": "code",
   "execution_count": 330,
   "id": "036e3f38-ae62-4b6f-a05f-4da5d66cc2bf",
   "metadata": {},
   "outputs": [
    {
     "name": "stdout",
     "output_type": "stream",
     "text": [
      "\n",
      "Train Values - First 5 Rows:\n",
      "------------------------------\n",
      "      id  amount_tsh date_recorded        funder  gps_height     installer  \\\n",
      "0  69572      6000.0    2011-03-14         Roman        1390         Roman   \n",
      "1   8776         0.0    2013-03-06       Grumeti        1399       GRUMETI   \n",
      "2  34310        25.0    2013-02-25  Lottery Club         686  World vision   \n",
      "3  67743         0.0    2013-01-28        Unicef         263        UNICEF   \n",
      "4  19728         0.0    2011-07-13   Action In A           0       Artisan   \n",
      "\n",
      "   longitude   latitude              wpt_name  num_private  ... payment_type  \\\n",
      "0  34.938093  -9.856322                  none            0  ...     annually   \n",
      "1  34.698766  -2.147466              Zahanati            0  ...    never pay   \n",
      "2  37.460664  -3.821329           Kwa Mahundi            0  ...   per bucket   \n",
      "3  38.486161 -11.155298  Zahanati Ya Nanyumbu            0  ...    never pay   \n",
      "4  31.130847  -1.825359               Shuleni            0  ...    never pay   \n",
      "\n",
      "  water_quality quality_group      quantity  quantity_group  \\\n",
      "0          soft          good        enough          enough   \n",
      "1          soft          good  insufficient    insufficient   \n",
      "2          soft          good        enough          enough   \n",
      "3          soft          good           dry             dry   \n",
      "4          soft          good      seasonal        seasonal   \n",
      "\n",
      "                 source           source_type  source_class  \\\n",
      "0                spring                spring   groundwater   \n",
      "1  rainwater harvesting  rainwater harvesting       surface   \n",
      "2                   dam                   dam       surface   \n",
      "3           machine dbh              borehole   groundwater   \n",
      "4  rainwater harvesting  rainwater harvesting       surface   \n",
      "\n",
      "               waterpoint_type waterpoint_type_group  \n",
      "0           communal standpipe    communal standpipe  \n",
      "1           communal standpipe    communal standpipe  \n",
      "2  communal standpipe multiple    communal standpipe  \n",
      "3  communal standpipe multiple    communal standpipe  \n",
      "4           communal standpipe    communal standpipe  \n",
      "\n",
      "[5 rows x 40 columns]\n",
      "\n",
      "Train Values - Shape:\n",
      "------------------------------\n",
      "Rows: 59400, Columns: 40\n",
      "\n",
      "Train Values - Info:\n",
      "------------------------------\n",
      "<class 'pandas.core.frame.DataFrame'>\n",
      "RangeIndex: 59400 entries, 0 to 59399\n",
      "Data columns (total 40 columns):\n",
      " #   Column                 Non-Null Count  Dtype  \n",
      "---  ------                 --------------  -----  \n",
      " 0   id                     59400 non-null  int64  \n",
      " 1   amount_tsh             59400 non-null  float64\n",
      " 2   date_recorded          59400 non-null  object \n",
      " 3   funder                 55763 non-null  object \n",
      " 4   gps_height             59400 non-null  int64  \n",
      " 5   installer              55745 non-null  object \n",
      " 6   longitude              59400 non-null  float64\n",
      " 7   latitude               59400 non-null  float64\n",
      " 8   wpt_name               59398 non-null  object \n",
      " 9   num_private            59400 non-null  int64  \n",
      " 10  basin                  59400 non-null  object \n",
      " 11  subvillage             59029 non-null  object \n",
      " 12  region                 59400 non-null  object \n",
      " 13  region_code            59400 non-null  int64  \n",
      " 14  district_code          59400 non-null  int64  \n",
      " 15  lga                    59400 non-null  object \n",
      " 16  ward                   59400 non-null  object \n",
      " 17  population             59400 non-null  int64  \n",
      " 18  public_meeting         56066 non-null  object \n",
      " 19  recorded_by            59400 non-null  object \n",
      " 20  scheme_management      55522 non-null  object \n",
      " 21  scheme_name            30590 non-null  object \n",
      " 22  permit                 56344 non-null  object \n",
      " 23  construction_year      59400 non-null  int64  \n",
      " 24  extraction_type        59400 non-null  object \n",
      " 25  extraction_type_group  59400 non-null  object \n",
      " 26  extraction_type_class  59400 non-null  object \n",
      " 27  management             59400 non-null  object \n",
      " 28  management_group       59400 non-null  object \n",
      " 29  payment                59400 non-null  object \n",
      " 30  payment_type           59400 non-null  object \n",
      " 31  water_quality          59400 non-null  object \n",
      " 32  quality_group          59400 non-null  object \n",
      " 33  quantity               59400 non-null  object \n",
      " 34  quantity_group         59400 non-null  object \n",
      " 35  source                 59400 non-null  object \n",
      " 36  source_type            59400 non-null  object \n",
      " 37  source_class           59400 non-null  object \n",
      " 38  waterpoint_type        59400 non-null  object \n",
      " 39  waterpoint_type_group  59400 non-null  object \n",
      "dtypes: float64(3), int64(7), object(30)\n",
      "memory usage: 18.1+ MB\n",
      "\n",
      "Train Values - Columns:\n",
      "------------------------------\n",
      "['id', 'amount_tsh', 'date_recorded', 'funder', 'gps_height', 'installer', 'longitude', 'latitude', 'wpt_name', 'num_private', 'basin', 'subvillage', 'region', 'region_code', 'district_code', 'lga', 'ward', 'population', 'public_meeting', 'recorded_by', 'scheme_management', 'scheme_name', 'permit', 'construction_year', 'extraction_type', 'extraction_type_group', 'extraction_type_class', 'management', 'management_group', 'payment', 'payment_type', 'water_quality', 'quality_group', 'quantity', 'quantity_group', 'source', 'source_type', 'source_class', 'waterpoint_type', 'waterpoint_type_group']\n"
     ]
    }
   ],
   "source": [
    "# basic properties of train_values\n",
    "data_understanding.basic_properties_dataframe(data_understanding.train_values, name=\"Train Values\")"
   ]
  },
  {
   "cell_type": "markdown",
   "id": "47bf0a44-4ac0-4489-a399-d9d3bcfd9bef",
   "metadata": {},
   "source": [
    "#### Train_labels"
   ]
  },
  {
   "cell_type": "code",
   "execution_count": 332,
   "id": "d1bf775f-b760-4cd6-8bb7-26a2461b3aac",
   "metadata": {},
   "outputs": [
    {
     "name": "stdout",
     "output_type": "stream",
     "text": [
      "\n",
      "Train Labels - First 5 Rows:\n",
      "------------------------------\n",
      "      id    status_group\n",
      "0  69572      functional\n",
      "1   8776      functional\n",
      "2  34310      functional\n",
      "3  67743  non functional\n",
      "4  19728      functional\n",
      "\n",
      "Train Labels - Shape:\n",
      "------------------------------\n",
      "Rows: 59400, Columns: 2\n",
      "\n",
      "Train Labels - Info:\n",
      "------------------------------\n",
      "<class 'pandas.core.frame.DataFrame'>\n",
      "RangeIndex: 59400 entries, 0 to 59399\n",
      "Data columns (total 2 columns):\n",
      " #   Column        Non-Null Count  Dtype \n",
      "---  ------        --------------  ----- \n",
      " 0   id            59400 non-null  int64 \n",
      " 1   status_group  59400 non-null  object\n",
      "dtypes: int64(1), object(1)\n",
      "memory usage: 928.3+ KB\n",
      "\n",
      "Train Labels - Columns:\n",
      "------------------------------\n",
      "['id', 'status_group']\n"
     ]
    }
   ],
   "source": [
    "# basic properties of train labels\n",
    "data_understanding.basic_properties_dataframe(data_understanding.train_labels, name=\"Train Labels\")\n"
   ]
  },
  {
   "cell_type": "markdown",
   "id": "480a3f7e-133f-4435-bcaf-4ea5ead39a28",
   "metadata": {},
   "source": [
    "#### Test_values"
   ]
  },
  {
   "cell_type": "code",
   "execution_count": 334,
   "id": "4cf2c45a-7597-4c24-b614-e9621144f828",
   "metadata": {},
   "outputs": [
    {
     "name": "stdout",
     "output_type": "stream",
     "text": [
      "\n",
      "Test Values - First 5 Rows:\n",
      "------------------------------\n",
      "      id  amount_tsh date_recorded                  funder  gps_height  \\\n",
      "0  50785         0.0    2013-02-04                    Dmdd        1996   \n",
      "1  51630         0.0    2013-02-04  Government Of Tanzania        1569   \n",
      "2  17168         0.0    2013-02-01                     NaN        1567   \n",
      "3  45559         0.0    2013-01-22              Finn Water         267   \n",
      "4  49871       500.0    2013-03-27                  Bruder        1260   \n",
      "\n",
      "    installer  longitude   latitude                 wpt_name  num_private  \\\n",
      "0        DMDD  35.290799  -4.059696  Dinamu Secondary School            0   \n",
      "1         DWE  36.656709  -3.309214                  Kimnyak            0   \n",
      "2         NaN  34.767863  -5.004344           Puma Secondary            0   \n",
      "3  FINN WATER  38.058046  -9.418672           Kwa Mzee Pange            0   \n",
      "4      BRUDER  35.006123 -10.950412          Kwa Mzee Turuka            0   \n",
      "\n",
      "   ... payment_type water_quality quality_group      quantity  quantity_group  \\\n",
      "0  ...    never pay          soft          good      seasonal        seasonal   \n",
      "1  ...    never pay          soft          good  insufficient    insufficient   \n",
      "2  ...    never pay          soft          good  insufficient    insufficient   \n",
      "3  ...      unknown          soft          good           dry             dry   \n",
      "4  ...      monthly          soft          good        enough          enough   \n",
      "\n",
      "                 source           source_type  source_class  \\\n",
      "0  rainwater harvesting  rainwater harvesting       surface   \n",
      "1                spring                spring   groundwater   \n",
      "2  rainwater harvesting  rainwater harvesting       surface   \n",
      "3          shallow well          shallow well   groundwater   \n",
      "4                spring                spring   groundwater   \n",
      "\n",
      "      waterpoint_type waterpoint_type_group  \n",
      "0               other                 other  \n",
      "1  communal standpipe    communal standpipe  \n",
      "2               other                 other  \n",
      "3               other                 other  \n",
      "4  communal standpipe    communal standpipe  \n",
      "\n",
      "[5 rows x 40 columns]\n",
      "\n",
      "Test Values - Shape:\n",
      "------------------------------\n",
      "Rows: 14850, Columns: 40\n",
      "\n",
      "Test Values - Info:\n",
      "------------------------------\n",
      "<class 'pandas.core.frame.DataFrame'>\n",
      "RangeIndex: 14850 entries, 0 to 14849\n",
      "Data columns (total 40 columns):\n",
      " #   Column                 Non-Null Count  Dtype  \n",
      "---  ------                 --------------  -----  \n",
      " 0   id                     14850 non-null  int64  \n",
      " 1   amount_tsh             14850 non-null  float64\n",
      " 2   date_recorded          14850 non-null  object \n",
      " 3   funder                 13980 non-null  object \n",
      " 4   gps_height             14850 non-null  int64  \n",
      " 5   installer              13973 non-null  object \n",
      " 6   longitude              14850 non-null  float64\n",
      " 7   latitude               14850 non-null  float64\n",
      " 8   wpt_name               14850 non-null  object \n",
      " 9   num_private            14850 non-null  int64  \n",
      " 10  basin                  14850 non-null  object \n",
      " 11  subvillage             14751 non-null  object \n",
      " 12  region                 14850 non-null  object \n",
      " 13  region_code            14850 non-null  int64  \n",
      " 14  district_code          14850 non-null  int64  \n",
      " 15  lga                    14850 non-null  object \n",
      " 16  ward                   14850 non-null  object \n",
      " 17  population             14850 non-null  int64  \n",
      " 18  public_meeting         14029 non-null  object \n",
      " 19  recorded_by            14850 non-null  object \n",
      " 20  scheme_management      13881 non-null  object \n",
      " 21  scheme_name            7608 non-null   object \n",
      " 22  permit                 14113 non-null  object \n",
      " 23  construction_year      14850 non-null  int64  \n",
      " 24  extraction_type        14850 non-null  object \n",
      " 25  extraction_type_group  14850 non-null  object \n",
      " 26  extraction_type_class  14850 non-null  object \n",
      " 27  management             14850 non-null  object \n",
      " 28  management_group       14850 non-null  object \n",
      " 29  payment                14850 non-null  object \n",
      " 30  payment_type           14850 non-null  object \n",
      " 31  water_quality          14850 non-null  object \n",
      " 32  quality_group          14850 non-null  object \n",
      " 33  quantity               14850 non-null  object \n",
      " 34  quantity_group         14850 non-null  object \n",
      " 35  source                 14850 non-null  object \n",
      " 36  source_type            14850 non-null  object \n",
      " 37  source_class           14850 non-null  object \n",
      " 38  waterpoint_type        14850 non-null  object \n",
      " 39  waterpoint_type_group  14850 non-null  object \n",
      "dtypes: float64(3), int64(7), object(30)\n",
      "memory usage: 4.5+ MB\n",
      "\n",
      "Test Values - Columns:\n",
      "------------------------------\n",
      "['id', 'amount_tsh', 'date_recorded', 'funder', 'gps_height', 'installer', 'longitude', 'latitude', 'wpt_name', 'num_private', 'basin', 'subvillage', 'region', 'region_code', 'district_code', 'lga', 'ward', 'population', 'public_meeting', 'recorded_by', 'scheme_management', 'scheme_name', 'permit', 'construction_year', 'extraction_type', 'extraction_type_group', 'extraction_type_class', 'management', 'management_group', 'payment', 'payment_type', 'water_quality', 'quality_group', 'quantity', 'quantity_group', 'source', 'source_type', 'source_class', 'waterpoint_type', 'waterpoint_type_group']\n"
     ]
    }
   ],
   "source": [
    "# basic properties of test values\n",
    "data_understanding.basic_properties_dataframe(data_understanding.test_values, name=\"Test Values\")"
   ]
  },
  {
   "cell_type": "markdown",
   "id": "935221a0-dc56-48e5-846a-ef0a797e0d42",
   "metadata": {},
   "source": [
    "### 3. Summary Statistics for the datasets"
   ]
  },
  {
   "cell_type": "markdown",
   "id": "75e22649-e055-4f59-9c72-1d9e65e5348d",
   "metadata": {},
   "source": [
    "The summarize_statistics function provides an overview of the key statistical properties of the dataset, including summary statistics for numerical columns and frequency counts for categorical columns."
   ]
  },
  {
   "cell_type": "markdown",
   "id": "b10ac5d7-e49b-41f5-9044-e430f82a38d8",
   "metadata": {},
   "source": [
    "#### Train_values"
   ]
  },
  {
   "cell_type": "code",
   "execution_count": 338,
   "id": "32299b5e-2ab4-4817-9a39-ab742a55bbaa",
   "metadata": {},
   "outputs": [
    {
     "name": "stdout",
     "output_type": "stream",
     "text": [
      "\n",
      "Train Values - Summary Statistics:\n",
      "------------------------------\n",
      "\n",
      "Train Values - Numerical Columns Summary:\n",
      "------------------------------\n",
      "                 id     amount_tsh    gps_height     longitude      latitude  \\\n",
      "count  59400.000000   59400.000000  59400.000000  59400.000000  5.940000e+04   \n",
      "mean   37115.131768     317.650385    668.297239     34.077427 -5.706033e+00   \n",
      "std    21453.128371    2997.574558    693.116350      6.567432  2.946019e+00   \n",
      "min        0.000000       0.000000    -90.000000      0.000000 -1.164944e+01   \n",
      "25%    18519.750000       0.000000      0.000000     33.090347 -8.540621e+00   \n",
      "50%    37061.500000       0.000000    369.000000     34.908743 -5.021597e+00   \n",
      "75%    55656.500000      20.000000   1319.250000     37.178387 -3.326156e+00   \n",
      "max    74247.000000  350000.000000   2770.000000     40.345193 -2.000000e-08   \n",
      "\n",
      "        num_private   region_code  district_code    population  \\\n",
      "count  59400.000000  59400.000000   59400.000000  59400.000000   \n",
      "mean       0.474141     15.297003       5.629747    179.909983   \n",
      "std       12.236230     17.587406       9.633649    471.482176   \n",
      "min        0.000000      1.000000       0.000000      0.000000   \n",
      "25%        0.000000      5.000000       2.000000      0.000000   \n",
      "50%        0.000000     12.000000       3.000000     25.000000   \n",
      "75%        0.000000     17.000000       5.000000    215.000000   \n",
      "max     1776.000000     99.000000      80.000000  30500.000000   \n",
      "\n",
      "       construction_year  \n",
      "count       59400.000000  \n",
      "mean         1300.652475  \n",
      "std           951.620547  \n",
      "min             0.000000  \n",
      "25%             0.000000  \n",
      "50%          1986.000000  \n",
      "75%          2004.000000  \n",
      "max          2013.000000  \n",
      "\n",
      "Train Values - Categorical Columns Summary:\n",
      "------------------------------\n",
      "\n",
      "date_recorded - Value Counts:\n",
      "------------------------------\n",
      "date_recorded\n",
      "2011-03-15    572\n",
      "2011-03-17    558\n",
      "2013-02-03    546\n",
      "2011-03-14    520\n",
      "2011-03-16    513\n",
      "             ... \n",
      "2011-09-11      1\n",
      "2011-08-31      1\n",
      "2011-09-21      1\n",
      "2011-08-30      1\n",
      "2013-12-01      1\n",
      "Name: count, Length: 356, dtype: int64\n",
      "------------------------------\n",
      "\n",
      "funder - Value Counts:\n",
      "------------------------------\n",
      "funder\n",
      "Government Of Tanzania    9084\n",
      "Danida                    3114\n",
      "Hesawa                    2202\n",
      "Rwssp                     1374\n",
      "World Bank                1349\n",
      "                          ... \n",
      "Muwasa                       1\n",
      "Msigw                        1\n",
      "Rc Mofu                      1\n",
      "Overland High School         1\n",
      "Samlo                        1\n",
      "Name: count, Length: 1896, dtype: int64\n",
      "------------------------------\n",
      "\n",
      "installer - Value Counts:\n",
      "------------------------------\n",
      "installer\n",
      "DWE                17402\n",
      "Government          1825\n",
      "RWE                 1206\n",
      "Commu               1060\n",
      "DANIDA              1050\n",
      "                   ...  \n",
      "Wizara  ya maji        1\n",
      "TWESS                  1\n",
      "Nasan workers          1\n",
      "R                      1\n",
      "SELEPTA                1\n",
      "Name: count, Length: 2145, dtype: int64\n",
      "------------------------------\n",
      "\n",
      "wpt_name - Value Counts:\n",
      "------------------------------\n",
      "wpt_name\n",
      "none                       3563\n",
      "Shuleni                    1748\n",
      "Zahanati                    830\n",
      "Msikitini                   535\n",
      "Kanisani                    323\n",
      "                           ... \n",
      "Kwa Medadi                    1\n",
      "Kwa Kubembeni                 1\n",
      "Shule Ya Msingi Milanzi       1\n",
      "Funua                         1\n",
      "Kwa Mzee Lugawa               1\n",
      "Name: count, Length: 37399, dtype: int64\n",
      "------------------------------\n",
      "\n",
      "basin - Value Counts:\n",
      "------------------------------\n",
      "basin\n",
      "Lake Victoria              10248\n",
      "Pangani                     8940\n",
      "Rufiji                      7976\n",
      "Internal                    7785\n",
      "Lake Tanganyika             6432\n",
      "Wami / Ruvu                 5987\n",
      "Lake Nyasa                  5085\n",
      "Ruvuma / Southern Coast     4493\n",
      "Lake Rukwa                  2454\n",
      "Name: count, dtype: int64\n",
      "------------------------------\n",
      "\n",
      "subvillage - Value Counts:\n",
      "------------------------------\n",
      "subvillage\n",
      "Madukani        508\n",
      "Shuleni         506\n",
      "Majengo         502\n",
      "Kati            373\n",
      "Mtakuja         262\n",
      "               ... \n",
      "Kipompo           1\n",
      "Chanyamilima      1\n",
      "Ikalime           1\n",
      "Kemagaka          1\n",
      "Kikatanyemba      1\n",
      "Name: count, Length: 19287, dtype: int64\n",
      "------------------------------\n",
      "\n",
      "region - Value Counts:\n",
      "------------------------------\n",
      "region\n",
      "Iringa           5294\n",
      "Shinyanga        4982\n",
      "Mbeya            4639\n",
      "Kilimanjaro      4379\n",
      "Morogoro         4006\n",
      "Arusha           3350\n",
      "Kagera           3316\n",
      "Mwanza           3102\n",
      "Kigoma           2816\n",
      "Ruvuma           2640\n",
      "Pwani            2635\n",
      "Tanga            2547\n",
      "Dodoma           2201\n",
      "Singida          2093\n",
      "Mara             1969\n",
      "Tabora           1959\n",
      "Rukwa            1808\n",
      "Mtwara           1730\n",
      "Manyara          1583\n",
      "Lindi            1546\n",
      "Dar es Salaam     805\n",
      "Name: count, dtype: int64\n",
      "------------------------------\n",
      "\n",
      "lga - Value Counts:\n",
      "------------------------------\n",
      "lga\n",
      "Njombe          2503\n",
      "Arusha Rural    1252\n",
      "Moshi Rural     1251\n",
      "Bariadi         1177\n",
      "Rungwe          1106\n",
      "                ... \n",
      "Moshi Urban       79\n",
      "Kigoma Urban      71\n",
      "Arusha Urban      63\n",
      "Lindi Urban       21\n",
      "Nyamagana          1\n",
      "Name: count, Length: 125, dtype: int64\n",
      "------------------------------\n",
      "\n",
      "ward - Value Counts:\n",
      "------------------------------\n",
      "ward\n",
      "Igosi              307\n",
      "Imalinyi           252\n",
      "Siha Kati          232\n",
      "Mdandu             231\n",
      "Nduruma            217\n",
      "                  ... \n",
      "Uchindile            1\n",
      "Thawi                1\n",
      "Uwanja wa Ndege      1\n",
      "Izia                 1\n",
      "Kinungu              1\n",
      "Name: count, Length: 2092, dtype: int64\n",
      "------------------------------\n",
      "\n",
      "public_meeting - Value Counts:\n",
      "------------------------------\n",
      "public_meeting\n",
      "True     51011\n",
      "False     5055\n",
      "Name: count, dtype: int64\n",
      "------------------------------\n",
      "\n",
      "recorded_by - Value Counts:\n",
      "------------------------------\n",
      "recorded_by\n",
      "GeoData Consultants Ltd    59400\n",
      "Name: count, dtype: int64\n",
      "------------------------------\n",
      "\n",
      "scheme_management - Value Counts:\n",
      "------------------------------\n",
      "scheme_management\n",
      "VWC                 36793\n",
      "WUG                  5206\n",
      "Water authority      3153\n",
      "WUA                  2883\n",
      "Water Board          2748\n",
      "Parastatal           1680\n",
      "Private operator     1063\n",
      "Company              1061\n",
      "Other                 766\n",
      "SWC                    97\n",
      "Trust                  72\n",
      "Name: count, dtype: int64\n",
      "------------------------------\n",
      "\n",
      "scheme_name - Value Counts:\n",
      "------------------------------\n",
      "scheme_name\n",
      "K                       682\n",
      "Borehole                546\n",
      "Chalinze wate           405\n",
      "M                       400\n",
      "DANIDA                  379\n",
      "                       ... \n",
      "Mradi wa maji Vijini      1\n",
      "Villagers                 1\n",
      "Magundi water supply      1\n",
      "Saadani Chumv             1\n",
      "Mtawanya                  1\n",
      "Name: count, Length: 2695, dtype: int64\n",
      "------------------------------\n",
      "\n",
      "permit - Value Counts:\n",
      "------------------------------\n",
      "permit\n",
      "True     38852\n",
      "False    17492\n",
      "Name: count, dtype: int64\n",
      "------------------------------\n",
      "\n",
      "extraction_type - Value Counts:\n",
      "------------------------------\n",
      "extraction_type\n",
      "gravity                      26780\n",
      "nira/tanira                   8154\n",
      "other                         6430\n",
      "submersible                   4764\n",
      "swn 80                        3670\n",
      "mono                          2865\n",
      "india mark ii                 2400\n",
      "afridev                       1770\n",
      "ksb                           1415\n",
      "other - rope pump              451\n",
      "other - swn 81                 229\n",
      "windmill                       117\n",
      "india mark iii                  98\n",
      "cemo                            90\n",
      "other - play pump               85\n",
      "walimi                          48\n",
      "climax                          32\n",
      "other - mkulima/shinyanga        2\n",
      "Name: count, dtype: int64\n",
      "------------------------------\n",
      "\n",
      "extraction_type_group - Value Counts:\n",
      "------------------------------\n",
      "extraction_type_group\n",
      "gravity            26780\n",
      "nira/tanira         8154\n",
      "other               6430\n",
      "submersible         6179\n",
      "swn 80              3670\n",
      "mono                2865\n",
      "india mark ii       2400\n",
      "afridev             1770\n",
      "rope pump            451\n",
      "other handpump       364\n",
      "other motorpump      122\n",
      "wind-powered         117\n",
      "india mark iii        98\n",
      "Name: count, dtype: int64\n",
      "------------------------------\n",
      "\n",
      "extraction_type_class - Value Counts:\n",
      "------------------------------\n",
      "extraction_type_class\n",
      "gravity         26780\n",
      "handpump        16456\n",
      "other            6430\n",
      "submersible      6179\n",
      "motorpump        2987\n",
      "rope pump         451\n",
      "wind-powered      117\n",
      "Name: count, dtype: int64\n",
      "------------------------------\n",
      "\n",
      "management - Value Counts:\n",
      "------------------------------\n",
      "management\n",
      "vwc                 40507\n",
      "wug                  6515\n",
      "water board          2933\n",
      "wua                  2535\n",
      "private operator     1971\n",
      "parastatal           1768\n",
      "water authority       904\n",
      "other                 844\n",
      "company               685\n",
      "unknown               561\n",
      "other - school         99\n",
      "trust                  78\n",
      "Name: count, dtype: int64\n",
      "------------------------------\n",
      "\n",
      "management_group - Value Counts:\n",
      "------------------------------\n",
      "management_group\n",
      "user-group    52490\n",
      "commercial     3638\n",
      "parastatal     1768\n",
      "other           943\n",
      "unknown         561\n",
      "Name: count, dtype: int64\n",
      "------------------------------\n",
      "\n",
      "payment - Value Counts:\n",
      "------------------------------\n",
      "payment\n",
      "never pay                25348\n",
      "pay per bucket            8985\n",
      "pay monthly               8300\n",
      "unknown                   8157\n",
      "pay when scheme fails     3914\n",
      "pay annually              3642\n",
      "other                     1054\n",
      "Name: count, dtype: int64\n",
      "------------------------------\n",
      "\n",
      "payment_type - Value Counts:\n",
      "------------------------------\n",
      "payment_type\n",
      "never pay     25348\n",
      "per bucket     8985\n",
      "monthly        8300\n",
      "unknown        8157\n",
      "on failure     3914\n",
      "annually       3642\n",
      "other          1054\n",
      "Name: count, dtype: int64\n",
      "------------------------------\n",
      "\n",
      "water_quality - Value Counts:\n",
      "------------------------------\n",
      "water_quality\n",
      "soft                  50818\n",
      "salty                  4856\n",
      "unknown                1876\n",
      "milky                   804\n",
      "coloured                490\n",
      "salty abandoned         339\n",
      "fluoride                200\n",
      "fluoride abandoned       17\n",
      "Name: count, dtype: int64\n",
      "------------------------------\n",
      "\n",
      "quality_group - Value Counts:\n",
      "------------------------------\n",
      "quality_group\n",
      "good        50818\n",
      "salty        5195\n",
      "unknown      1876\n",
      "milky         804\n",
      "colored       490\n",
      "fluoride      217\n",
      "Name: count, dtype: int64\n",
      "------------------------------\n",
      "\n",
      "quantity - Value Counts:\n",
      "------------------------------\n",
      "quantity\n",
      "enough          33186\n",
      "insufficient    15129\n",
      "dry              6246\n",
      "seasonal         4050\n",
      "unknown           789\n",
      "Name: count, dtype: int64\n",
      "------------------------------\n",
      "\n",
      "quantity_group - Value Counts:\n",
      "------------------------------\n",
      "quantity_group\n",
      "enough          33186\n",
      "insufficient    15129\n",
      "dry              6246\n",
      "seasonal         4050\n",
      "unknown           789\n",
      "Name: count, dtype: int64\n",
      "------------------------------\n",
      "\n",
      "source - Value Counts:\n",
      "------------------------------\n",
      "source\n",
      "spring                  17021\n",
      "shallow well            16824\n",
      "machine dbh             11075\n",
      "river                    9612\n",
      "rainwater harvesting     2295\n",
      "hand dtw                  874\n",
      "lake                      765\n",
      "dam                       656\n",
      "other                     212\n",
      "unknown                    66\n",
      "Name: count, dtype: int64\n",
      "------------------------------\n",
      "\n",
      "source_type - Value Counts:\n",
      "------------------------------\n",
      "source_type\n",
      "spring                  17021\n",
      "shallow well            16824\n",
      "borehole                11949\n",
      "river/lake              10377\n",
      "rainwater harvesting     2295\n",
      "dam                       656\n",
      "other                     278\n",
      "Name: count, dtype: int64\n",
      "------------------------------\n",
      "\n",
      "source_class - Value Counts:\n",
      "------------------------------\n",
      "source_class\n",
      "groundwater    45794\n",
      "surface        13328\n",
      "unknown          278\n",
      "Name: count, dtype: int64\n",
      "------------------------------\n",
      "\n",
      "waterpoint_type - Value Counts:\n",
      "------------------------------\n",
      "waterpoint_type\n",
      "communal standpipe             28522\n",
      "hand pump                      17488\n",
      "other                           6380\n",
      "communal standpipe multiple     6103\n",
      "improved spring                  784\n",
      "cattle trough                    116\n",
      "dam                                7\n",
      "Name: count, dtype: int64\n",
      "------------------------------\n",
      "\n",
      "waterpoint_type_group - Value Counts:\n",
      "------------------------------\n",
      "waterpoint_type_group\n",
      "communal standpipe    34625\n",
      "hand pump             17488\n",
      "other                  6380\n",
      "improved spring         784\n",
      "cattle trough           116\n",
      "dam                       7\n",
      "Name: count, dtype: int64\n",
      "------------------------------\n"
     ]
    }
   ],
   "source": [
    "# statical summary of train values\n",
    "data_understanding.summarize_statistics(data_understanding.train_values, name=\"Train Values\")"
   ]
  },
  {
   "cell_type": "markdown",
   "id": "879eeda7-f63f-4468-be9c-533e1a41fb12",
   "metadata": {},
   "source": [
    "#### Train_labels"
   ]
  },
  {
   "cell_type": "code",
   "execution_count": 340,
   "id": "68f4371b-e5d5-4da1-baa7-57904ffbd1cc",
   "metadata": {},
   "outputs": [
    {
     "name": "stdout",
     "output_type": "stream",
     "text": [
      "\n",
      "Train Labels - Summary Statistics:\n",
      "------------------------------\n",
      "\n",
      "Train Labels - Numerical Columns Summary:\n",
      "------------------------------\n",
      "                 id\n",
      "count  59400.000000\n",
      "mean   37115.131768\n",
      "std    21453.128371\n",
      "min        0.000000\n",
      "25%    18519.750000\n",
      "50%    37061.500000\n",
      "75%    55656.500000\n",
      "max    74247.000000\n",
      "\n",
      "Train Labels - Categorical Columns Summary:\n",
      "------------------------------\n",
      "\n",
      "status_group - Value Counts:\n",
      "------------------------------\n",
      "status_group\n",
      "functional                 32259\n",
      "non functional             22824\n",
      "functional needs repair     4317\n",
      "Name: count, dtype: int64\n",
      "------------------------------\n"
     ]
    }
   ],
   "source": [
    "# statistical summary of train labels\n",
    "data_understanding.summarize_statistics(data_understanding.train_labels, name=\"Train Labels\")"
   ]
  },
  {
   "cell_type": "markdown",
   "id": "912adfa6-3f33-403d-8d1c-fb4f5b1e2cc2",
   "metadata": {},
   "source": [
    "#### Test_values"
   ]
  },
  {
   "cell_type": "code",
   "execution_count": 342,
   "id": "748ebe1a-9f7d-4bdd-b204-6c1606b30cfc",
   "metadata": {},
   "outputs": [
    {
     "name": "stdout",
     "output_type": "stream",
     "text": [
      "\n",
      "Test Values - Summary Statistics:\n",
      "------------------------------\n",
      "\n",
      "Test Values - Numerical Columns Summary:\n",
      "------------------------------\n",
      "                 id     amount_tsh    gps_height     longitude      latitude  \\\n",
      "count  14850.000000   14850.000000  14850.000000  14850.000000  1.485000e+04   \n",
      "mean   37161.972929     322.826983    655.147609     34.061605 -5.684724e+00   \n",
      "std    21359.364833    2510.968644    691.261185      6.593034  2.940803e+00   \n",
      "min       10.000000       0.000000    -57.000000      0.000000 -1.156459e+01   \n",
      "25%    18727.000000       0.000000      0.000000     33.069455 -8.443970e+00   \n",
      "50%    37361.500000       0.000000    344.000000     34.901215 -5.049750e+00   \n",
      "75%    55799.750000      25.000000   1308.000000     37.196594 -3.320594e+00   \n",
      "max    74249.000000  200000.000000   2777.000000     40.325016 -2.000000e-08   \n",
      "\n",
      "        num_private   region_code  district_code    population  \\\n",
      "count  14850.000000  14850.000000   14850.000000  14850.000000   \n",
      "mean       0.415084     15.139057       5.626397    184.114209   \n",
      "std        8.167910     17.191329       9.673842    469.499332   \n",
      "min        0.000000      1.000000       0.000000      0.000000   \n",
      "25%        0.000000      5.000000       2.000000      0.000000   \n",
      "50%        0.000000     12.000000       3.000000     20.000000   \n",
      "75%        0.000000     17.000000       5.000000    220.000000   \n",
      "max      669.000000     99.000000      80.000000  11469.000000   \n",
      "\n",
      "       construction_year  \n",
      "count       14850.000000  \n",
      "mean         1289.708350  \n",
      "std           955.241087  \n",
      "min             0.000000  \n",
      "25%             0.000000  \n",
      "50%          1986.000000  \n",
      "75%          2004.000000  \n",
      "max          2013.000000  \n",
      "\n",
      "Test Values - Categorical Columns Summary:\n",
      "------------------------------\n",
      "\n",
      "date_recorded - Value Counts:\n",
      "------------------------------\n",
      "date_recorded\n",
      "2013-02-03    138\n",
      "2011-03-16    137\n",
      "2011-03-17    137\n",
      "2011-03-18    130\n",
      "2011-03-14    129\n",
      "             ... \n",
      "2011-09-24      1\n",
      "2004-01-04      1\n",
      "2013-01-06      1\n",
      "2011-09-02      1\n",
      "2004-01-09      1\n",
      "Name: count, Length: 331, dtype: int64\n",
      "------------------------------\n",
      "\n",
      "funder - Value Counts:\n",
      "------------------------------\n",
      "funder\n",
      "Government Of Tanzania    2215\n",
      "Danida                     793\n",
      "Hesawa                     580\n",
      "World Bank                 352\n",
      "Kkkt                       336\n",
      "                          ... \n",
      "Craelius                     1\n",
      "Tanroad                      1\n",
      "Ndanda Missions              1\n",
      "Wards                        1\n",
      "Livin                        1\n",
      "Name: count, Length: 979, dtype: int64\n",
      "------------------------------\n",
      "\n",
      "installer - Value Counts:\n",
      "------------------------------\n",
      "installer\n",
      "DWE           4349\n",
      "Government     457\n",
      "RWE            292\n",
      "Commu          287\n",
      "DANIDA         255\n",
      "              ... \n",
      "Commun           1\n",
      "QUIKWIN          1\n",
      "SDG              1\n",
      "MoWI             1\n",
      "LIVI             1\n",
      "Name: count, Length: 1091, dtype: int64\n",
      "------------------------------\n",
      "\n",
      "wpt_name - Value Counts:\n",
      "------------------------------\n",
      "wpt_name\n",
      "none                877\n",
      "Shuleni             435\n",
      "Zahanati            204\n",
      "Msikitini           112\n",
      "Sokoni               68\n",
      "                   ... \n",
      "Kwa Gadau             1\n",
      "Bubinza B             1\n",
      "Nguvu Kazi A          1\n",
      "Kwa Everigist         1\n",
      "Kwa Mzee Chagala      1\n",
      "Name: count, Length: 10840, dtype: int64\n",
      "------------------------------\n",
      "\n",
      "basin - Value Counts:\n",
      "------------------------------\n",
      "basin\n",
      "Lake Victoria              2623\n",
      "Pangani                    2203\n",
      "Rufiji                     2011\n",
      "Internal                   1857\n",
      "Lake Tanganyika            1620\n",
      "Wami / Ruvu                1590\n",
      "Lake Nyasa                 1247\n",
      "Ruvuma / Southern Coast    1094\n",
      "Lake Rukwa                  605\n",
      "Name: count, dtype: int64\n",
      "------------------------------\n",
      "\n",
      "subvillage - Value Counts:\n",
      "------------------------------\n",
      "subvillage\n",
      "Shuleni           140\n",
      "Majengo           129\n",
      "Madukani          121\n",
      "Kati               94\n",
      "Sokoni             62\n",
      "                 ... \n",
      "Kurukangara         1\n",
      "Kiranjeranje A      1\n",
      "Mwajiji             1\n",
      "Ngabobo             1\n",
      "Kamba               1\n",
      "Name: count, Length: 8443, dtype: int64\n",
      "------------------------------\n",
      "\n",
      "region - Value Counts:\n",
      "------------------------------\n",
      "region\n",
      "Shinyanga        1311\n",
      "Iringa           1305\n",
      "Mbeya            1119\n",
      "Kilimanjaro      1115\n",
      "Morogoro         1032\n",
      "Kagera            858\n",
      "Mwanza            795\n",
      "Arusha            761\n",
      "Kigoma            717\n",
      "Pwani             696\n",
      "Ruvuma            666\n",
      "Tanga             639\n",
      "Dodoma            578\n",
      "Tabora            507\n",
      "Mara              482\n",
      "Singida           443\n",
      "Rukwa             434\n",
      "Mtwara            414\n",
      "Manyara           389\n",
      "Lindi             374\n",
      "Dar es Salaam     215\n",
      "Name: count, dtype: int64\n",
      "------------------------------\n",
      "\n",
      "lga - Value Counts:\n",
      "------------------------------\n",
      "lga\n",
      "Njombe          625\n",
      "Moshi Rural     315\n",
      "Bariadi         308\n",
      "Rungwe          275\n",
      "Kasulu          275\n",
      "               ... \n",
      "Songea Urban     23\n",
      "Tanga            22\n",
      "Arusha Urban     19\n",
      "Lindi Urban       3\n",
      "Nyamagana         1\n",
      "Name: count, Length: 125, dtype: int64\n",
      "------------------------------\n",
      "\n",
      "ward - Value Counts:\n",
      "------------------------------\n",
      "ward\n",
      "Igosi        79\n",
      "Imalinyi     66\n",
      "Siha Kati    65\n",
      "Mdandu       61\n",
      "Kitunda      57\n",
      "             ..\n",
      "Manyondwe     1\n",
      "Lizaboni      1\n",
      "Masasi        1\n",
      "Mtombozi      1\n",
      "Idifu         1\n",
      "Name: count, Length: 1959, dtype: int64\n",
      "------------------------------\n",
      "\n",
      "public_meeting - Value Counts:\n",
      "------------------------------\n",
      "public_meeting\n",
      "True     12738\n",
      "False     1291\n",
      "Name: count, dtype: int64\n",
      "------------------------------\n",
      "\n",
      "recorded_by - Value Counts:\n",
      "------------------------------\n",
      "recorded_by\n",
      "GeoData Consultants Ltd    14850\n",
      "Name: count, dtype: int64\n",
      "------------------------------\n",
      "\n",
      "scheme_management - Value Counts:\n",
      "------------------------------\n",
      "scheme_management\n",
      "VWC                 9124\n",
      "WUG                 1290\n",
      "Water authority      822\n",
      "Water Board          714\n",
      "WUA                  668\n",
      "Parastatal           444\n",
      "Company              280\n",
      "Private operator     263\n",
      "Other                230\n",
      "SWC                   26\n",
      "Trust                 20\n",
      "Name: count, dtype: int64\n",
      "------------------------------\n",
      "\n",
      "scheme_name - Value Counts:\n",
      "------------------------------\n",
      "scheme_name\n",
      "K                      176\n",
      "Borehole               158\n",
      "DANIDA                 104\n",
      "Chalinze wate           96\n",
      "M                       90\n",
      "                      ... \n",
      "Iseke water supply       1\n",
      "Dina                     1\n",
      "Water supplying          1\n",
      "Mazi                     1\n",
      "Mbwasa water supply      1\n",
      "Name: count, Length: 1788, dtype: int64\n",
      "------------------------------\n",
      "\n",
      "permit - Value Counts:\n",
      "------------------------------\n",
      "permit\n",
      "True     9754\n",
      "False    4359\n",
      "Name: count, dtype: int64\n",
      "------------------------------\n",
      "\n",
      "extraction_type - Value Counts:\n",
      "------------------------------\n",
      "extraction_type\n",
      "gravity              6483\n",
      "nira/tanira          2051\n",
      "other                1672\n",
      "submersible          1218\n",
      "swn 80                918\n",
      "mono                  763\n",
      "india mark ii         629\n",
      "afridev               438\n",
      "ksb                   375\n",
      "other - rope pump     121\n",
      "other - swn 81         55\n",
      "india mark iii         37\n",
      "windmill               35\n",
      "cemo                   18\n",
      "other - play pump      16\n",
      "walimi                 12\n",
      "climax                  9\n",
      "Name: count, dtype: int64\n",
      "------------------------------\n",
      "\n",
      "extraction_type_group - Value Counts:\n",
      "------------------------------\n",
      "extraction_type_group\n",
      "gravity            6483\n",
      "nira/tanira        2051\n",
      "other              1672\n",
      "submersible        1593\n",
      "swn 80              918\n",
      "mono                763\n",
      "india mark ii       629\n",
      "afridev             438\n",
      "rope pump           121\n",
      "other handpump       83\n",
      "india mark iii       37\n",
      "wind-powered         35\n",
      "other motorpump      27\n",
      "Name: count, dtype: int64\n",
      "------------------------------\n",
      "\n",
      "extraction_type_class - Value Counts:\n",
      "------------------------------\n",
      "extraction_type_class\n",
      "gravity         6483\n",
      "handpump        4156\n",
      "other           1672\n",
      "submersible     1593\n",
      "motorpump        790\n",
      "rope pump        121\n",
      "wind-powered      35\n",
      "Name: count, dtype: int64\n",
      "------------------------------\n",
      "\n",
      "management - Value Counts:\n",
      "------------------------------\n",
      "management\n",
      "vwc                 10117\n",
      "wug                  1593\n",
      "water board           755\n",
      "wua                   583\n",
      "private operator      533\n",
      "parastatal            461\n",
      "other                 239\n",
      "water authority       219\n",
      "company               174\n",
      "unknown               122\n",
      "other - school         27\n",
      "trust                  27\n",
      "Name: count, dtype: int64\n",
      "------------------------------\n",
      "\n",
      "management_group - Value Counts:\n",
      "------------------------------\n",
      "management_group\n",
      "user-group    13048\n",
      "commercial      953\n",
      "parastatal      461\n",
      "other           266\n",
      "unknown         122\n",
      "Name: count, dtype: int64\n",
      "------------------------------\n",
      "\n",
      "payment - Value Counts:\n",
      "------------------------------\n",
      "payment\n",
      "never pay                6364\n",
      "pay per bucket           2281\n",
      "pay monthly              2097\n",
      "unknown                  1992\n",
      "pay annually              928\n",
      "pay when scheme fails     928\n",
      "other                     260\n",
      "Name: count, dtype: int64\n",
      "------------------------------\n",
      "\n",
      "payment_type - Value Counts:\n",
      "------------------------------\n",
      "payment_type\n",
      "never pay     6364\n",
      "per bucket    2281\n",
      "monthly       2097\n",
      "unknown       1992\n",
      "annually       928\n",
      "on failure     928\n",
      "other          260\n",
      "Name: count, dtype: int64\n",
      "------------------------------\n",
      "\n",
      "water_quality - Value Counts:\n",
      "------------------------------\n",
      "water_quality\n",
      "soft                  12687\n",
      "salty                  1226\n",
      "unknown                 469\n",
      "milky                   201\n",
      "coloured                133\n",
      "salty abandoned          84\n",
      "fluoride                 44\n",
      "fluoride abandoned        6\n",
      "Name: count, dtype: int64\n",
      "------------------------------\n",
      "\n",
      "quality_group - Value Counts:\n",
      "------------------------------\n",
      "quality_group\n",
      "good        12687\n",
      "salty        1310\n",
      "unknown       469\n",
      "milky         201\n",
      "colored       133\n",
      "fluoride       50\n",
      "Name: count, dtype: int64\n",
      "------------------------------\n",
      "\n",
      "quantity - Value Counts:\n",
      "------------------------------\n",
      "quantity\n",
      "enough          8336\n",
      "insufficient    3767\n",
      "dry             1536\n",
      "seasonal        1025\n",
      "unknown          186\n",
      "Name: count, dtype: int64\n",
      "------------------------------\n",
      "\n",
      "quantity_group - Value Counts:\n",
      "------------------------------\n",
      "quantity_group\n",
      "enough          8336\n",
      "insufficient    3767\n",
      "dry             1536\n",
      "seasonal        1025\n",
      "unknown          186\n",
      "Name: count, dtype: int64\n",
      "------------------------------\n",
      "\n",
      "source - Value Counts:\n",
      "------------------------------\n",
      "source\n",
      "shallow well            4316\n",
      "spring                  4195\n",
      "machine dbh             2747\n",
      "river                   2352\n",
      "rainwater harvesting     568\n",
      "hand dtw                 234\n",
      "lake                     185\n",
      "dam                      184\n",
      "other                     49\n",
      "unknown                   20\n",
      "Name: count, dtype: int64\n",
      "------------------------------\n",
      "\n",
      "source_type - Value Counts:\n",
      "------------------------------\n",
      "source_type\n",
      "shallow well            4316\n",
      "spring                  4195\n",
      "borehole                2981\n",
      "river/lake              2537\n",
      "rainwater harvesting     568\n",
      "dam                      184\n",
      "other                     69\n",
      "Name: count, dtype: int64\n",
      "------------------------------\n",
      "\n",
      "source_class - Value Counts:\n",
      "------------------------------\n",
      "source_class\n",
      "groundwater    11492\n",
      "surface         3289\n",
      "unknown           69\n",
      "Name: count, dtype: int64\n",
      "------------------------------\n",
      "\n",
      "waterpoint_type - Value Counts:\n",
      "------------------------------\n",
      "waterpoint_type\n",
      "communal standpipe             7106\n",
      "hand pump                      4396\n",
      "other                          1630\n",
      "communal standpipe multiple    1508\n",
      "improved spring                 175\n",
      "cattle trough                    34\n",
      "dam                               1\n",
      "Name: count, dtype: int64\n",
      "------------------------------\n",
      "\n",
      "waterpoint_type_group - Value Counts:\n",
      "------------------------------\n",
      "waterpoint_type_group\n",
      "communal standpipe    8614\n",
      "hand pump             4396\n",
      "other                 1630\n",
      "improved spring        175\n",
      "cattle trough           34\n",
      "dam                      1\n",
      "Name: count, dtype: int64\n",
      "------------------------------\n"
     ]
    }
   ],
   "source": [
    "# statistical summary of test values\n",
    "data_understanding.summarize_statistics(data_understanding.test_values, name=\"Test Values\")"
   ]
  },
  {
   "cell_type": "markdown",
   "id": "61aef40e-db80-40e0-97f5-b4d28f934fff",
   "metadata": {},
   "source": [
    "### 4. Missing Values of the datasets"
   ]
  },
  {
   "cell_type": "markdown",
   "id": "271b1c74-3c84-4180-8806-8f1443fc682f",
   "metadata": {},
   "source": [
    "In order to analyze and summarize the missing data in the 3 datasets. It includes the count and percentage of missing values for each column, providing insights into the completeness of the data. "
   ]
  },
  {
   "cell_type": "markdown",
   "id": "491db689-383b-44c4-af2d-79f7262ef921",
   "metadata": {},
   "source": [
    "#### Train_values"
   ]
  },
  {
   "cell_type": "code",
   "execution_count": 346,
   "id": "603b89cc-a205-479a-af5e-c4d9e3d993db",
   "metadata": {},
   "outputs": [
    {
     "name": "stdout",
     "output_type": "stream",
     "text": [
      "\n",
      "Train Values - Missing Values Summary:\n",
      "------------------------------\n",
      "                   Missing Values  Percentage\n",
      "scheme_name                 28810   48.501684\n",
      "scheme_management            3878    6.528620\n",
      "installer                    3655    6.153199\n",
      "funder                       3637    6.122896\n",
      "public_meeting               3334    5.612795\n",
      "permit                       3056    5.144781\n",
      "subvillage                    371    0.624579\n",
      "wpt_name                        2    0.003367\n"
     ]
    }
   ],
   "source": [
    "# missing values of train values\n",
    "data_understanding.missing_values_summary(data_understanding.train_values, name=\"Train Values\")"
   ]
  },
  {
   "cell_type": "markdown",
   "id": "6db1f585-30ad-45e1-ba71-4fbf534562a3",
   "metadata": {},
   "source": [
    "#### Train_labels"
   ]
  },
  {
   "cell_type": "code",
   "execution_count": 348,
   "id": "984be3cf-28eb-4296-b130-d03cd380a620",
   "metadata": {},
   "outputs": [
    {
     "name": "stdout",
     "output_type": "stream",
     "text": [
      "\n",
      "Train Labels - Missing Values Summary:\n",
      "------------------------------\n",
      "Empty DataFrame\n",
      "Columns: [Missing Values, Percentage]\n",
      "Index: []\n"
     ]
    }
   ],
   "source": [
    "# missing values of train labels\n",
    "data_understanding.missing_values_summary(data_understanding.train_labels, name=\"Train Labels\")"
   ]
  },
  {
   "cell_type": "markdown",
   "id": "261f730b-1085-4608-9e94-36aa5fb8cfbf",
   "metadata": {},
   "source": [
    "#### Test_values"
   ]
  },
  {
   "cell_type": "code",
   "execution_count": 350,
   "id": "d37f422d-5265-47f6-966d-36bdae81b79e",
   "metadata": {},
   "outputs": [
    {
     "name": "stdout",
     "output_type": "stream",
     "text": [
      "\n",
      "Test Values - Missing Values Summary:\n",
      "------------------------------\n",
      "                   Missing Values  Percentage\n",
      "scheme_name                  7242   48.767677\n",
      "scheme_management             969    6.525253\n",
      "installer                     877    5.905724\n",
      "funder                        870    5.858586\n",
      "public_meeting                821    5.528620\n",
      "permit                        737    4.962963\n",
      "subvillage                     99    0.666667\n"
     ]
    }
   ],
   "source": [
    "# missing values of test values\n",
    "data_understanding.missing_values_summary(data_understanding.test_values, name=\"Test Values\")"
   ]
  },
  {
   "cell_type": "markdown",
   "id": "aafc0750-5622-4c42-97b2-9f9b460fe60e",
   "metadata": {},
   "source": [
    "# Data Preprocessing and Data Analysis"
   ]
  },
  {
   "cell_type": "markdown",
   "id": "2fb4120a-0db6-4048-8ea1-59f25ccaa3f6",
   "metadata": {},
   "source": [
    "## 1. Data Cleaning"
   ]
  },
  {
   "cell_type": "markdown",
   "id": "5920c021-be6a-4945-a8a9-479a2cc9fe9e",
   "metadata": {},
   "source": [
    "The train_values and the train_labels need to be combined for easier preparation of the data while the test_values will be cleaned separately."
   ]
  },
  {
   "cell_type": "code",
   "execution_count": 354,
   "id": "306ab1e3-8e30-4dfa-9211-bf552c2b7dcc",
   "metadata": {},
   "outputs": [],
   "source": [
    "# Intialize the class Data Cleaning\n",
    "data_cleaning = DataCleaning(data_understanding.train_values, data_understanding.train_labels, data_understanding.test_values)"
   ]
  },
  {
   "cell_type": "code",
   "execution_count": 355,
   "id": "f52cf72d-69db-482b-8e1c-9713ad118ae8",
   "metadata": {},
   "outputs": [],
   "source": [
    "# Access the train_values and train_labels from data_understanding\n",
    "train_values = data_understanding.train_values\n",
    "train_labels = data_understanding.train_labels\n",
    "\n",
    "# Combine train_values and train_labels using the method from DataCleaning class\n",
    "df_train = data_cleaning.combine_train_data(train_values, train_labels)"
   ]
  },
  {
   "cell_type": "markdown",
   "id": "c74504fe-0d6a-4e29-87a2-0798ce944a9a",
   "metadata": {},
   "source": [
    "### 1.1. Dealing missing values"
   ]
  },
  {
   "cell_type": "markdown",
   "id": "34ba015b-d4cc-48b6-8fc6-17bc0d269962",
   "metadata": {},
   "source": [
    "Categorical Columns: For categorical columns like 'funder', 'installer', 'public_meeting', 'scheme_management', 'permit', 'wpt_name', we fill missing values with the mode (most frequent value). This ensures that missing values in these columns are replaced with meaningful defaults based on the data.\n",
    "\n",
    "Rare Categories: For columns like subvillage, which contains many rare values, we fill missing values with 'Unknown'. This helps avoid misrepresentation of missing data with unique or outlier values.\n",
    "\n",
    "Column Removal: In some cases, columns with a high percentage of missing data (such as scheme_name, which had 48% missing) are removed to ensure the model isn't biased by an excessive amount of missing data."
   ]
  },
  {
   "cell_type": "code",
   "execution_count": 358,
   "id": "906a6c77-bb8f-498a-8270-9283ac0b106f",
   "metadata": {},
   "outputs": [
    {
     "name": "stdout",
     "output_type": "stream",
     "text": [
      "Missing values after handling:\n",
      "                       Missing Count  Missing Percentage (%)\n",
      "amount_tsh                         0                     0.0\n",
      "date_recorded                      0                     0.0\n",
      "funder                             0                     0.0\n",
      "gps_height                         0                     0.0\n",
      "installer                          0                     0.0\n",
      "longitude                          0                     0.0\n",
      "latitude                           0                     0.0\n",
      "wpt_name                           0                     0.0\n",
      "num_private                        0                     0.0\n",
      "basin                              0                     0.0\n",
      "subvillage                         0                     0.0\n",
      "region                             0                     0.0\n",
      "region_code                        0                     0.0\n",
      "district_code                      0                     0.0\n",
      "lga                                0                     0.0\n",
      "ward                               0                     0.0\n",
      "population                         0                     0.0\n",
      "public_meeting                     0                     0.0\n",
      "recorded_by                        0                     0.0\n",
      "scheme_management                  0                     0.0\n",
      "permit                             0                     0.0\n",
      "construction_year                  0                     0.0\n",
      "extraction_type                    0                     0.0\n",
      "extraction_type_group              0                     0.0\n",
      "extraction_type_class              0                     0.0\n",
      "management                         0                     0.0\n",
      "management_group                   0                     0.0\n",
      "payment                            0                     0.0\n",
      "payment_type                       0                     0.0\n",
      "water_quality                      0                     0.0\n",
      "quality_group                      0                     0.0\n",
      "quantity                           0                     0.0\n",
      "quantity_group                     0                     0.0\n",
      "source                             0                     0.0\n",
      "source_type                        0                     0.0\n",
      "source_class                       0                     0.0\n",
      "waterpoint_type                    0                     0.0\n",
      "waterpoint_type_group              0                     0.0\n",
      "status_group                       0                     0.0\n"
     ]
    }
   ],
   "source": [
    "# Handle missing values in the train dataset\n",
    "\n",
    "df_train = data_cleaning.handle_missing_values(df_train)"
   ]
  },
  {
   "cell_type": "markdown",
   "id": "6cd2cb9c-78aa-464e-ba7e-8f05e1ac5253",
   "metadata": {},
   "source": [
    "Handling missing values for test values dataset will be the same train dataset"
   ]
  },
  {
   "cell_type": "code",
   "execution_count": 360,
   "id": "095cb4cc-769a-41ba-9e79-dd9a0c9ed490",
   "metadata": {},
   "outputs": [
    {
     "name": "stdout",
     "output_type": "stream",
     "text": [
      "Missing values after handling:\n",
      "                       Missing Count  Missing Percentage (%)\n",
      "id                                 0                     0.0\n",
      "amount_tsh                         0                     0.0\n",
      "date_recorded                      0                     0.0\n",
      "funder                             0                     0.0\n",
      "gps_height                         0                     0.0\n",
      "installer                          0                     0.0\n",
      "longitude                          0                     0.0\n",
      "latitude                           0                     0.0\n",
      "wpt_name                           0                     0.0\n",
      "num_private                        0                     0.0\n",
      "basin                              0                     0.0\n",
      "subvillage                         0                     0.0\n",
      "region                             0                     0.0\n",
      "region_code                        0                     0.0\n",
      "district_code                      0                     0.0\n",
      "lga                                0                     0.0\n",
      "ward                               0                     0.0\n",
      "population                         0                     0.0\n",
      "public_meeting                     0                     0.0\n",
      "recorded_by                        0                     0.0\n",
      "scheme_management                  0                     0.0\n",
      "permit                             0                     0.0\n",
      "construction_year                  0                     0.0\n",
      "extraction_type                    0                     0.0\n",
      "extraction_type_group              0                     0.0\n",
      "extraction_type_class              0                     0.0\n",
      "management                         0                     0.0\n",
      "management_group                   0                     0.0\n",
      "payment                            0                     0.0\n",
      "payment_type                       0                     0.0\n",
      "water_quality                      0                     0.0\n",
      "quality_group                      0                     0.0\n",
      "quantity                           0                     0.0\n",
      "quantity_group                     0                     0.0\n",
      "source                             0                     0.0\n",
      "source_type                        0                     0.0\n",
      "source_class                       0                     0.0\n",
      "waterpoint_type                    0                     0.0\n",
      "waterpoint_type_group              0                     0.0\n"
     ]
    }
   ],
   "source": [
    "# Handle missing values in the train dataset\n",
    "test_values = data_understanding.test_values\n",
    "test_values= data_cleaning.handle_missing_values(test_values)"
   ]
  },
  {
   "cell_type": "markdown",
   "id": "c2355f55-ea97-4cc1-b954-ebd1c05ad281",
   "metadata": {},
   "source": [
    "### 1.2 Some columns have the constant values, others are similar columns and all need to be dropped"
   ]
  },
  {
   "cell_type": "markdown",
   "id": "fae7c23f-160e-4593-be37-658fa141873f",
   "metadata": {},
   "source": [
    "#### 1.2.1. Columns with constant values"
   ]
  },
  {
   "cell_type": "code",
   "execution_count": 363,
   "id": "7968f19c-73c5-4415-b13f-36cafa3607f3",
   "metadata": {},
   "outputs": [
    {
     "name": "stdout",
     "output_type": "stream",
     "text": [
      "Columns with constant values: recorded_by    1\n",
      "dtype: int64\n"
     ]
    }
   ],
   "source": [
    "# Check the number of unique values in each column\n",
    "unique_counts = df_train.nunique()\n",
    "\n",
    "# Filter columns that have only 1 unique value\n",
    "constant_columns = unique_counts[unique_counts == 1]\n",
    "\n",
    "print(\"Columns with constant values:\", constant_columns)\n"
   ]
  },
  {
   "cell_type": "markdown",
   "id": "88536598-e634-4449-a667-5ebcd8f69d8d",
   "metadata": {},
   "source": [
    "The recorded_by column since it has constant value which might not be useful to the model and therefore will be dropped."
   ]
  },
  {
   "cell_type": "markdown",
   "id": "73b5c541-5a8c-4deb-9169-86cf602b1753",
   "metadata": {},
   "source": [
    "#### 1.2.2. region / region_code / district_code Columns:\n",
    "These columns are likely to be important for geographical classification and could provide valuable insights into regional patterns but could be similar"
   ]
  },
  {
   "cell_type": "code",
   "execution_count": 366,
   "id": "08ebda1f-6611-4de5-b6b0-cbdf10b093ba",
   "metadata": {},
   "outputs": [
    {
     "name": "stdout",
     "output_type": "stream",
     "text": [
      "    region  region_code  district_code\n",
      "0   Iringa           11              5\n",
      "1     Mara           20              2\n",
      "2  Manyara           21              4\n",
      "3   Mtwara           90             63\n",
      "4   Kagera           18              1\n",
      "region           21\n",
      "region_code      27\n",
      "district_code    20\n",
      "dtype: int64\n"
     ]
    }
   ],
   "source": [
    "# Subset for region-related columns\n",
    "region_columns = ['region', 'region_code', 'district_code']\n",
    "df_region = df_train[region_columns]\n",
    "print(df_region.head())\n",
    "print(df_region.nunique())"
   ]
  },
  {
   "cell_type": "markdown",
   "id": "b09667d9-e1f4-461b-893b-d857e73551c0",
   "metadata": {},
   "source": [
    "The 'region_code', 'district_code' columns are sort of identifiers and since the 'region' is available they can be dropped "
   ]
  },
  {
   "cell_type": "markdown",
   "id": "31119850-f12f-4368-a9ee-6f3ea8320012",
   "metadata": {},
   "source": [
    "#### 1.2.3 scheme_management / management / management_group Columns:\n",
    "These columns relate to the management structure of the water schemes and could be critical in understanding the management of water points."
   ]
  },
  {
   "cell_type": "code",
   "execution_count": 369,
   "id": "66ea9754-232e-4a56-901f-82f2bb2ac525",
   "metadata": {},
   "outputs": [
    {
     "data": {
      "text/html": [
       "<div>\n",
       "<style scoped>\n",
       "    .dataframe tbody tr th:only-of-type {\n",
       "        vertical-align: middle;\n",
       "    }\n",
       "\n",
       "    .dataframe tbody tr th {\n",
       "        vertical-align: top;\n",
       "    }\n",
       "\n",
       "    .dataframe thead th {\n",
       "        text-align: right;\n",
       "    }\n",
       "</style>\n",
       "<table border=\"1\" class=\"dataframe\">\n",
       "  <thead>\n",
       "    <tr style=\"text-align: right;\">\n",
       "      <th></th>\n",
       "      <th>scheme_management</th>\n",
       "      <th>management</th>\n",
       "      <th>management_group</th>\n",
       "    </tr>\n",
       "  </thead>\n",
       "  <tbody>\n",
       "    <tr>\n",
       "      <th>59395</th>\n",
       "      <td>Water Board</td>\n",
       "      <td>water board</td>\n",
       "      <td>user-group</td>\n",
       "    </tr>\n",
       "    <tr>\n",
       "      <th>59396</th>\n",
       "      <td>VWC</td>\n",
       "      <td>vwc</td>\n",
       "      <td>user-group</td>\n",
       "    </tr>\n",
       "    <tr>\n",
       "      <th>59397</th>\n",
       "      <td>VWC</td>\n",
       "      <td>vwc</td>\n",
       "      <td>user-group</td>\n",
       "    </tr>\n",
       "    <tr>\n",
       "      <th>59398</th>\n",
       "      <td>VWC</td>\n",
       "      <td>vwc</td>\n",
       "      <td>user-group</td>\n",
       "    </tr>\n",
       "    <tr>\n",
       "      <th>59399</th>\n",
       "      <td>VWC</td>\n",
       "      <td>vwc</td>\n",
       "      <td>user-group</td>\n",
       "    </tr>\n",
       "  </tbody>\n",
       "</table>\n",
       "</div>"
      ],
      "text/plain": [
       "      scheme_management   management management_group\n",
       "59395       Water Board  water board       user-group\n",
       "59396               VWC          vwc       user-group\n",
       "59397               VWC          vwc       user-group\n",
       "59398               VWC          vwc       user-group\n",
       "59399               VWC          vwc       user-group"
      ]
     },
     "execution_count": 369,
     "metadata": {},
     "output_type": "execute_result"
    }
   ],
   "source": [
    "# Subset for management-related columns\n",
    "df_management = df_train[['scheme_management', 'management', 'management_group']]\n",
    "df_management.tail()\n"
   ]
  },
  {
   "cell_type": "markdown",
   "id": "59bbb429-5b1c-4f78-9455-a056ade6fc0f",
   "metadata": {},
   "source": [
    "Scheme_management and management are almost similar therefore 'scheme_management' will be dropped"
   ]
  },
  {
   "cell_type": "markdown",
   "id": "b7fb9ef0-df39-40b7-aaef-726837d937b0",
   "metadata": {},
   "source": [
    "#### 1.2.4. extraction_type / extraction_type_group / extraction_type_class Columns:\n",
    "These columns describe the extraction method for water points, which could be a significant factor in understanding water access and sustainability."
   ]
  },
  {
   "cell_type": "code",
   "execution_count": 372,
   "id": "546ff181-1498-42a1-bf89-447257011e69",
   "metadata": {},
   "outputs": [
    {
     "name": "stdout",
     "output_type": "stream",
     "text": [
      "  extraction_type extraction_type_group extraction_type_class\n",
      "0         gravity               gravity               gravity\n",
      "1         gravity               gravity               gravity\n",
      "2         gravity               gravity               gravity\n",
      "3     submersible           submersible           submersible\n",
      "4         gravity               gravity               gravity\n",
      "extraction_type          18\n",
      "extraction_type_group    13\n",
      "extraction_type_class     7\n",
      "dtype: int64\n"
     ]
    }
   ],
   "source": [
    "# Subset for extraction-related columns\n",
    "df_extraction = df_train[['extraction_type', 'extraction_type_group', 'extraction_type_class']]\n",
    "print(df_extraction.head())\n",
    "print(df_extraction.nunique())"
   ]
  },
  {
   "cell_type": "markdown",
   "id": "d905e5ea-5370-4931-82de-acb6b80fc4c0",
   "metadata": {},
   "source": [
    "The columns 'extraction_type', 'extraction_type_group', 'extraction_type_class' are closely related therefore since extraction_type seems to be detailed will be retained"
   ]
  },
  {
   "cell_type": "markdown",
   "id": "b2f95bf9-ba33-4295-a6a1-531a7792f134",
   "metadata": {},
   "source": [
    "#### 1.2.5. waterpoint_type / waterpoint_type_group Columns:\n",
    "These columns are important as they categorize water point types and can influence how the data is grouped or analyzed but might be similar"
   ]
  },
  {
   "cell_type": "code",
   "execution_count": 375,
   "id": "3cf34e1f-9ba8-48cb-b398-dd303ddd9ae7",
   "metadata": {},
   "outputs": [
    {
     "name": "stdout",
     "output_type": "stream",
     "text": [
      "          waterpoint_type waterpoint_type_group\n",
      "59395  communal standpipe    communal standpipe\n",
      "59396  communal standpipe    communal standpipe\n",
      "59397           hand pump             hand pump\n",
      "59398           hand pump             hand pump\n",
      "59399           hand pump             hand pump\n",
      "waterpoint_type          7\n",
      "waterpoint_type_group    6\n",
      "dtype: int64\n"
     ]
    }
   ],
   "source": [
    "# Subset for waterpoint type-related columns\n",
    "df_waterpoint_columns = df_train[['waterpoint_type', 'waterpoint_type_group']]\n",
    "print(df_waterpoint_columns.tail())\n",
    "print(df_waterpoint_columns.nunique())"
   ]
  },
  {
   "cell_type": "markdown",
   "id": "3ae5ac1d-0ca7-489c-bfb6-8b9375ae3e12",
   "metadata": {},
   "source": [
    "The columns 'waterpoint_type', 'waterpoint_type_group' are almost similiar there but waterpoint_type could be more informative therefore should retained."
   ]
  },
  {
   "cell_type": "markdown",
   "id": "3c94d2af-3ac9-41b8-a268-20efe8d92d2c",
   "metadata": {},
   "source": [
    "#### 1.2.6. source / source_type / source_class Columns:\n",
    "These columns describe the type and classification of the water source, which could be important in analyzing water quality and availability."
   ]
  },
  {
   "cell_type": "code",
   "execution_count": 378,
   "id": "58fa5882-28a5-4e83-afa3-e33992a453e8",
   "metadata": {},
   "outputs": [
    {
     "name": "stdout",
     "output_type": "stream",
     "text": [
      "                 source           source_type source_class\n",
      "0                spring                spring  groundwater\n",
      "1  rainwater harvesting  rainwater harvesting      surface\n",
      "2                   dam                   dam      surface\n",
      "3           machine dbh              borehole  groundwater\n",
      "4  rainwater harvesting  rainwater harvesting      surface\n",
      "source          10\n",
      "source_type      7\n",
      "source_class     3\n",
      "dtype: int64\n"
     ]
    }
   ],
   "source": [
    "# Subset for source-related columns\n",
    "df_source_columns = df_train[['source', 'source_type', 'source_class']]\n",
    "print(df_source_columns.head())\n",
    "print(df_source_columns.nunique())"
   ]
  },
  {
   "cell_type": "markdown",
   "id": "2883bd2c-a6dd-4795-8f84-3a0e6fc938b7",
   "metadata": {},
   "source": [
    "The columns 'source', 'source_type', 'source_class' are related especially 'source', 'source_type' therefore will drop 'source_type'."
   ]
  },
  {
   "cell_type": "markdown",
   "id": "863dfc18-2c64-41f3-8b18-427931deb342",
   "metadata": {},
   "source": [
    "#### 1.2.7. payment / payment_type Columns:\n",
    "These columns are related to the payment model for the water scheme, which can provide insights into the financial structure and sustainability of water points."
   ]
  },
  {
   "cell_type": "code",
   "execution_count": 381,
   "id": "4d7bb745-1aaf-4671-aac6-6e533311973e",
   "metadata": {},
   "outputs": [
    {
     "name": "stdout",
     "output_type": "stream",
     "text": [
      "          payment payment_type\n",
      "0    pay annually     annually\n",
      "1       never pay    never pay\n",
      "2  pay per bucket   per bucket\n",
      "3       never pay    never pay\n",
      "4       never pay    never pay\n",
      "payment         7\n",
      "payment_type    7\n",
      "dtype: int64\n"
     ]
    }
   ],
   "source": [
    "# Subset for payment-related columns\n",
    "df_payment_columns = df_train[['payment', 'payment_type']]\n",
    "print(df_payment_columns.head())\n",
    "print(df_payment_columns.nunique())"
   ]
  },
  {
   "cell_type": "markdown",
   "id": "1dbc7c91-3835-42df-a44c-59602ddb53ec",
   "metadata": {},
   "source": [
    "The columns 'payment', 'payment_type' are similar however payment_type seems to be more standardized therefore will be retained"
   ]
  },
  {
   "cell_type": "markdown",
   "id": "530c4de4-d15d-4280-bbc8-7fd78d5b03be",
   "metadata": {},
   "source": [
    "#### 1.2.8. quantity / quantity_group Columns:\n",
    "These columns relate to the amount of water available and its classification, which could be useful in understanding water accessibility and usage."
   ]
  },
  {
   "cell_type": "code",
   "execution_count": 384,
   "id": "e97aa069-436b-48c3-a107-a6d62d4f9876",
   "metadata": {},
   "outputs": [
    {
     "name": "stdout",
     "output_type": "stream",
     "text": [
      "       quantity quantity_group\n",
      "0        enough         enough\n",
      "1  insufficient   insufficient\n",
      "2        enough         enough\n",
      "3           dry            dry\n",
      "4      seasonal       seasonal\n",
      "quantity          5\n",
      "quantity_group    5\n",
      "dtype: int64\n"
     ]
    }
   ],
   "source": [
    "# Subset for quantity-related columns\n",
    "df_quantity_columns = df_train[['quantity', 'quantity_group']]\n",
    "print(df_quantity_columns.head())\n",
    "print(df_quantity_columns.nunique())"
   ]
  },
  {
   "cell_type": "markdown",
   "id": "ab3c0288-6aa0-459d-9826-08c7292393f5",
   "metadata": {},
   "source": [
    "The columns 'quantity', 'quantity_group' are similar therefore lets drop 'quantity_group'"
   ]
  },
  {
   "cell_type": "markdown",
   "id": "5c45e7f7-c021-414d-a551-94f7d717a205",
   "metadata": {},
   "source": [
    "#### 1.2.9. water_quality / quality_group Columns:\n",
    "These columns describe water quality, which is critical in understanding the safety and usability of the water."
   ]
  },
  {
   "cell_type": "code",
   "execution_count": 387,
   "id": "b1207978-6350-4cc6-8dde-99e4f78516a8",
   "metadata": {},
   "outputs": [
    {
     "name": "stdout",
     "output_type": "stream",
     "text": [
      "      water_quality quality_group\n",
      "59395          soft          good\n",
      "59396          soft          good\n",
      "59397      fluoride      fluoride\n",
      "59398          soft          good\n",
      "59399         salty         salty\n",
      "water_quality    8\n",
      "quality_group    6\n",
      "dtype: int64\n"
     ]
    }
   ],
   "source": [
    "# Subset for water quality-related columns\n",
    "df_water_quality_columns = df_train[['water_quality', 'quality_group']]\n",
    "print(df_water_quality_columns.tail())\n",
    "print(df_water_quality_columns.nunique())"
   ]
  },
  {
   "cell_type": "markdown",
   "id": "8696a900-bac1-4578-b291-682e07c21e2c",
   "metadata": {},
   "source": [
    "The columns 'water_quality', 'quality_group' are sort of similar however the water_quality seems to be more detailed therefore will be retained"
   ]
  },
  {
   "cell_type": "markdown",
   "id": "21105c1e-ce8d-4893-9e8a-de22d14e43b6",
   "metadata": {},
   "source": [
    "After identifying the columns which not necessary for the model, will drop them both for the train and test sets"
   ]
  },
  {
   "cell_type": "code",
   "execution_count": 390,
   "id": "2bc351ea-9d2a-48e0-871c-46676e80d89a",
   "metadata": {},
   "outputs": [
    {
     "name": "stdout",
     "output_type": "stream",
     "text": [
      "<class 'pandas.core.frame.DataFrame'>\n",
      "RangeIndex: 59400 entries, 0 to 59399\n",
      "Data columns (total 28 columns):\n",
      " #   Column             Non-Null Count  Dtype  \n",
      "---  ------             --------------  -----  \n",
      " 0   amount_tsh         59400 non-null  float64\n",
      " 1   date_recorded      59400 non-null  object \n",
      " 2   funder             59400 non-null  object \n",
      " 3   gps_height         59400 non-null  int64  \n",
      " 4   installer          59400 non-null  object \n",
      " 5   longitude          59400 non-null  float64\n",
      " 6   latitude           59400 non-null  float64\n",
      " 7   wpt_name           59400 non-null  object \n",
      " 8   num_private        59400 non-null  int64  \n",
      " 9   basin              59400 non-null  object \n",
      " 10  subvillage         59400 non-null  object \n",
      " 11  region             59400 non-null  object \n",
      " 12  lga                59400 non-null  object \n",
      " 13  ward               59400 non-null  object \n",
      " 14  population         59400 non-null  int64  \n",
      " 15  public_meeting     59400 non-null  bool   \n",
      " 16  permit             59400 non-null  bool   \n",
      " 17  construction_year  59400 non-null  int64  \n",
      " 18  extraction_type    59400 non-null  object \n",
      " 19  management         59400 non-null  object \n",
      " 20  management_group   59400 non-null  object \n",
      " 21  payment_type       59400 non-null  object \n",
      " 22  water_quality      59400 non-null  object \n",
      " 23  quantity           59400 non-null  object \n",
      " 24  source             59400 non-null  object \n",
      " 25  source_class       59400 non-null  object \n",
      " 26  waterpoint_type    59400 non-null  object \n",
      " 27  status_group       59400 non-null  object \n",
      "dtypes: bool(2), float64(3), int64(4), object(19)\n",
      "memory usage: 11.9+ MB\n"
     ]
    }
   ],
   "source": [
    "# List of columns to drop from both DataFrames\n",
    "columns_to_drop = ['recorded_by', 'waterpoint_type_group', 'quality_group', 'quantity_group', 'payment', 'source_type', \n",
    "                      'extraction_type_group', 'extraction_type_class', 'scheme_management', 'region_code', 'district_code']\n",
    "\n",
    "# Drop the specified columns from df_train\n",
    "df_train = data_cleaning.drop_columns(df_train, columns_to_drop)\n",
    "df_train.info()"
   ]
  },
  {
   "cell_type": "code",
   "execution_count": 391,
   "id": "6082b5dc-d9f5-4fc2-848b-059fa9654004",
   "metadata": {},
   "outputs": [
    {
     "name": "stdout",
     "output_type": "stream",
     "text": [
      "<class 'pandas.core.frame.DataFrame'>\n",
      "RangeIndex: 14850 entries, 0 to 14849\n",
      "Data columns (total 28 columns):\n",
      " #   Column             Non-Null Count  Dtype  \n",
      "---  ------             --------------  -----  \n",
      " 0   id                 14850 non-null  int64  \n",
      " 1   amount_tsh         14850 non-null  float64\n",
      " 2   date_recorded      14850 non-null  object \n",
      " 3   funder             14850 non-null  object \n",
      " 4   gps_height         14850 non-null  int64  \n",
      " 5   installer          14850 non-null  object \n",
      " 6   longitude          14850 non-null  float64\n",
      " 7   latitude           14850 non-null  float64\n",
      " 8   wpt_name           14850 non-null  object \n",
      " 9   num_private        14850 non-null  int64  \n",
      " 10  basin              14850 non-null  object \n",
      " 11  subvillage         14850 non-null  object \n",
      " 12  region             14850 non-null  object \n",
      " 13  lga                14850 non-null  object \n",
      " 14  ward               14850 non-null  object \n",
      " 15  population         14850 non-null  int64  \n",
      " 16  public_meeting     14850 non-null  bool   \n",
      " 17  permit             14850 non-null  bool   \n",
      " 18  construction_year  14850 non-null  int64  \n",
      " 19  extraction_type    14850 non-null  object \n",
      " 20  management         14850 non-null  object \n",
      " 21  management_group   14850 non-null  object \n",
      " 22  payment_type       14850 non-null  object \n",
      " 23  water_quality      14850 non-null  object \n",
      " 24  quantity           14850 non-null  object \n",
      " 25  source             14850 non-null  object \n",
      " 26  source_class       14850 non-null  object \n",
      " 27  waterpoint_type    14850 non-null  object \n",
      "dtypes: bool(2), float64(3), int64(5), object(18)\n",
      "memory usage: 3.0+ MB\n"
     ]
    }
   ],
   "source": [
    "# Drop the specified columns from test_values too\n",
    "test_values= data_cleaning.drop_columns(test_values, columns_to_drop)\n",
    "test_values.info()"
   ]
  },
  {
   "cell_type": "markdown",
   "id": "1241f00f-b3e9-4dd5-becf-f397ba3f9076",
   "metadata": {},
   "source": [
    "### 1.3.Converting 'date_recorded' to datetime and extracting the year, month and day\n",
    "Since the date_recorded column is an object, it needs to be converted to datetime then extract the year, month and day for easier feature engineering then drop the column"
   ]
  },
  {
   "cell_type": "code",
   "execution_count": 393,
   "id": "401bec2d-4331-4a62-970f-a8b37edb48be",
   "metadata": {},
   "outputs": [
    {
     "name": "stdout",
     "output_type": "stream",
     "text": [
      "<class 'pandas.core.frame.DataFrame'>\n",
      "RangeIndex: 59400 entries, 0 to 59399\n",
      "Data columns (total 30 columns):\n",
      " #   Column             Non-Null Count  Dtype  \n",
      "---  ------             --------------  -----  \n",
      " 0   amount_tsh         59400 non-null  float64\n",
      " 1   funder             59400 non-null  object \n",
      " 2   gps_height         59400 non-null  int64  \n",
      " 3   installer          59400 non-null  object \n",
      " 4   longitude          59400 non-null  float64\n",
      " 5   latitude           59400 non-null  float64\n",
      " 6   wpt_name           59400 non-null  object \n",
      " 7   num_private        59400 non-null  int64  \n",
      " 8   basin              59400 non-null  object \n",
      " 9   subvillage         59400 non-null  object \n",
      " 10  region             59400 non-null  object \n",
      " 11  lga                59400 non-null  object \n",
      " 12  ward               59400 non-null  object \n",
      " 13  population         59400 non-null  int64  \n",
      " 14  public_meeting     59400 non-null  bool   \n",
      " 15  permit             59400 non-null  bool   \n",
      " 16  construction_year  59400 non-null  int64  \n",
      " 17  extraction_type    59400 non-null  object \n",
      " 18  management         59400 non-null  object \n",
      " 19  management_group   59400 non-null  object \n",
      " 20  payment_type       59400 non-null  object \n",
      " 21  water_quality      59400 non-null  object \n",
      " 22  quantity           59400 non-null  object \n",
      " 23  source             59400 non-null  object \n",
      " 24  source_class       59400 non-null  object \n",
      " 25  waterpoint_type    59400 non-null  object \n",
      " 26  status_group       59400 non-null  object \n",
      " 27  year               59400 non-null  int32  \n",
      " 28  month              59400 non-null  int32  \n",
      " 29  day                59400 non-null  int32  \n",
      "dtypes: bool(2), float64(3), int32(3), int64(4), object(18)\n",
      "memory usage: 12.1+ MB\n"
     ]
    }
   ],
   "source": [
    "# Convert 'date_recorded' to datetime and extract parts for the train_df\n",
    "df_train = data_cleaning.extract_date_parts(df_train, 'date_recorded')\n",
    "df_train.info()"
   ]
  },
  {
   "cell_type": "code",
   "execution_count": 394,
   "id": "41a2212e-222d-486d-8169-eaf631ee1e00",
   "metadata": {},
   "outputs": [
    {
     "name": "stdout",
     "output_type": "stream",
     "text": [
      "<class 'pandas.core.frame.DataFrame'>\n",
      "RangeIndex: 14850 entries, 0 to 14849\n",
      "Data columns (total 30 columns):\n",
      " #   Column             Non-Null Count  Dtype  \n",
      "---  ------             --------------  -----  \n",
      " 0   id                 14850 non-null  int64  \n",
      " 1   amount_tsh         14850 non-null  float64\n",
      " 2   funder             14850 non-null  object \n",
      " 3   gps_height         14850 non-null  int64  \n",
      " 4   installer          14850 non-null  object \n",
      " 5   longitude          14850 non-null  float64\n",
      " 6   latitude           14850 non-null  float64\n",
      " 7   wpt_name           14850 non-null  object \n",
      " 8   num_private        14850 non-null  int64  \n",
      " 9   basin              14850 non-null  object \n",
      " 10  subvillage         14850 non-null  object \n",
      " 11  region             14850 non-null  object \n",
      " 12  lga                14850 non-null  object \n",
      " 13  ward               14850 non-null  object \n",
      " 14  population         14850 non-null  int64  \n",
      " 15  public_meeting     14850 non-null  bool   \n",
      " 16  permit             14850 non-null  bool   \n",
      " 17  construction_year  14850 non-null  int64  \n",
      " 18  extraction_type    14850 non-null  object \n",
      " 19  management         14850 non-null  object \n",
      " 20  management_group   14850 non-null  object \n",
      " 21  payment_type       14850 non-null  object \n",
      " 22  water_quality      14850 non-null  object \n",
      " 23  quantity           14850 non-null  object \n",
      " 24  source             14850 non-null  object \n",
      " 25  source_class       14850 non-null  object \n",
      " 26  waterpoint_type    14850 non-null  object \n",
      " 27  year               14850 non-null  int32  \n",
      " 28  month              14850 non-null  int32  \n",
      " 29  day                14850 non-null  int32  \n",
      "dtypes: bool(2), float64(3), int32(3), int64(5), object(17)\n",
      "memory usage: 3.0+ MB\n"
     ]
    }
   ],
   "source": [
    "# Converting 'date_recorded' to datetime and extracting the year, month and day of Test_Values too\n",
    "test_values = data_cleaning.extract_date_parts(test_values, 'date_recorded')\n",
    "test_values.info()"
   ]
  },
  {
   "cell_type": "markdown",
   "id": "206fd051-17f4-4c53-8e5b-36bf04a4b5fa",
   "metadata": {},
   "source": [
    "### 1.4. Convert all categorical column values to title case\n",
    "To ensure all the categorical column values are consistent and well formatted"
   ]
  },
  {
   "cell_type": "code",
   "execution_count": 396,
   "id": "af6c2dec-ef7a-4f2d-89aa-688ea1c9c1ae",
   "metadata": {},
   "outputs": [
    {
     "data": {
      "text/html": [
       "<div>\n",
       "<style scoped>\n",
       "    .dataframe tbody tr th:only-of-type {\n",
       "        vertical-align: middle;\n",
       "    }\n",
       "\n",
       "    .dataframe tbody tr th {\n",
       "        vertical-align: top;\n",
       "    }\n",
       "\n",
       "    .dataframe thead th {\n",
       "        text-align: right;\n",
       "    }\n",
       "</style>\n",
       "<table border=\"1\" class=\"dataframe\">\n",
       "  <thead>\n",
       "    <tr style=\"text-align: right;\">\n",
       "      <th></th>\n",
       "      <th>amount_tsh</th>\n",
       "      <th>funder</th>\n",
       "      <th>gps_height</th>\n",
       "      <th>installer</th>\n",
       "      <th>longitude</th>\n",
       "      <th>latitude</th>\n",
       "      <th>wpt_name</th>\n",
       "      <th>num_private</th>\n",
       "      <th>basin</th>\n",
       "      <th>subvillage</th>\n",
       "      <th>...</th>\n",
       "      <th>payment_type</th>\n",
       "      <th>water_quality</th>\n",
       "      <th>quantity</th>\n",
       "      <th>source</th>\n",
       "      <th>source_class</th>\n",
       "      <th>waterpoint_type</th>\n",
       "      <th>status_group</th>\n",
       "      <th>year</th>\n",
       "      <th>month</th>\n",
       "      <th>day</th>\n",
       "    </tr>\n",
       "  </thead>\n",
       "  <tbody>\n",
       "    <tr>\n",
       "      <th>0</th>\n",
       "      <td>6000.0</td>\n",
       "      <td>Roman</td>\n",
       "      <td>1390</td>\n",
       "      <td>Roman</td>\n",
       "      <td>34.938093</td>\n",
       "      <td>-9.856322</td>\n",
       "      <td>None</td>\n",
       "      <td>0</td>\n",
       "      <td>Lake Nyasa</td>\n",
       "      <td>Mnyusi B</td>\n",
       "      <td>...</td>\n",
       "      <td>Annually</td>\n",
       "      <td>Soft</td>\n",
       "      <td>Enough</td>\n",
       "      <td>Spring</td>\n",
       "      <td>Groundwater</td>\n",
       "      <td>Communal Standpipe</td>\n",
       "      <td>Functional</td>\n",
       "      <td>2011</td>\n",
       "      <td>3</td>\n",
       "      <td>14</td>\n",
       "    </tr>\n",
       "    <tr>\n",
       "      <th>1</th>\n",
       "      <td>0.0</td>\n",
       "      <td>Grumeti</td>\n",
       "      <td>1399</td>\n",
       "      <td>Grumeti</td>\n",
       "      <td>34.698766</td>\n",
       "      <td>-2.147466</td>\n",
       "      <td>Zahanati</td>\n",
       "      <td>0</td>\n",
       "      <td>Lake Victoria</td>\n",
       "      <td>Nyamara</td>\n",
       "      <td>...</td>\n",
       "      <td>Never Pay</td>\n",
       "      <td>Soft</td>\n",
       "      <td>Insufficient</td>\n",
       "      <td>Rainwater Harvesting</td>\n",
       "      <td>Surface</td>\n",
       "      <td>Communal Standpipe</td>\n",
       "      <td>Functional</td>\n",
       "      <td>2013</td>\n",
       "      <td>3</td>\n",
       "      <td>6</td>\n",
       "    </tr>\n",
       "    <tr>\n",
       "      <th>2</th>\n",
       "      <td>25.0</td>\n",
       "      <td>Lottery Club</td>\n",
       "      <td>686</td>\n",
       "      <td>World Vision</td>\n",
       "      <td>37.460664</td>\n",
       "      <td>-3.821329</td>\n",
       "      <td>Kwa Mahundi</td>\n",
       "      <td>0</td>\n",
       "      <td>Pangani</td>\n",
       "      <td>Majengo</td>\n",
       "      <td>...</td>\n",
       "      <td>Per Bucket</td>\n",
       "      <td>Soft</td>\n",
       "      <td>Enough</td>\n",
       "      <td>Dam</td>\n",
       "      <td>Surface</td>\n",
       "      <td>Communal Standpipe Multiple</td>\n",
       "      <td>Functional</td>\n",
       "      <td>2013</td>\n",
       "      <td>2</td>\n",
       "      <td>25</td>\n",
       "    </tr>\n",
       "    <tr>\n",
       "      <th>3</th>\n",
       "      <td>0.0</td>\n",
       "      <td>Unicef</td>\n",
       "      <td>263</td>\n",
       "      <td>Unicef</td>\n",
       "      <td>38.486161</td>\n",
       "      <td>-11.155298</td>\n",
       "      <td>Zahanati Ya Nanyumbu</td>\n",
       "      <td>0</td>\n",
       "      <td>Ruvuma / Southern Coast</td>\n",
       "      <td>Mahakamani</td>\n",
       "      <td>...</td>\n",
       "      <td>Never Pay</td>\n",
       "      <td>Soft</td>\n",
       "      <td>Dry</td>\n",
       "      <td>Machine Dbh</td>\n",
       "      <td>Groundwater</td>\n",
       "      <td>Communal Standpipe Multiple</td>\n",
       "      <td>Non Functional</td>\n",
       "      <td>2013</td>\n",
       "      <td>1</td>\n",
       "      <td>28</td>\n",
       "    </tr>\n",
       "    <tr>\n",
       "      <th>4</th>\n",
       "      <td>0.0</td>\n",
       "      <td>Action In A</td>\n",
       "      <td>0</td>\n",
       "      <td>Artisan</td>\n",
       "      <td>31.130847</td>\n",
       "      <td>-1.825359</td>\n",
       "      <td>Shuleni</td>\n",
       "      <td>0</td>\n",
       "      <td>Lake Victoria</td>\n",
       "      <td>Kyanyamisa</td>\n",
       "      <td>...</td>\n",
       "      <td>Never Pay</td>\n",
       "      <td>Soft</td>\n",
       "      <td>Seasonal</td>\n",
       "      <td>Rainwater Harvesting</td>\n",
       "      <td>Surface</td>\n",
       "      <td>Communal Standpipe</td>\n",
       "      <td>Functional</td>\n",
       "      <td>2011</td>\n",
       "      <td>7</td>\n",
       "      <td>13</td>\n",
       "    </tr>\n",
       "  </tbody>\n",
       "</table>\n",
       "<p>5 rows × 30 columns</p>\n",
       "</div>"
      ],
      "text/plain": [
       "   amount_tsh        funder  gps_height     installer  longitude   latitude  \\\n",
       "0      6000.0         Roman        1390         Roman  34.938093  -9.856322   \n",
       "1         0.0       Grumeti        1399       Grumeti  34.698766  -2.147466   \n",
       "2        25.0  Lottery Club         686  World Vision  37.460664  -3.821329   \n",
       "3         0.0        Unicef         263        Unicef  38.486161 -11.155298   \n",
       "4         0.0   Action In A           0       Artisan  31.130847  -1.825359   \n",
       "\n",
       "               wpt_name  num_private                    basin  subvillage  \\\n",
       "0                  None            0               Lake Nyasa    Mnyusi B   \n",
       "1              Zahanati            0            Lake Victoria     Nyamara   \n",
       "2           Kwa Mahundi            0                  Pangani     Majengo   \n",
       "3  Zahanati Ya Nanyumbu            0  Ruvuma / Southern Coast  Mahakamani   \n",
       "4               Shuleni            0            Lake Victoria  Kyanyamisa   \n",
       "\n",
       "   ... payment_type water_quality      quantity                source  \\\n",
       "0  ...     Annually          Soft        Enough                Spring   \n",
       "1  ...    Never Pay          Soft  Insufficient  Rainwater Harvesting   \n",
       "2  ...   Per Bucket          Soft        Enough                   Dam   \n",
       "3  ...    Never Pay          Soft           Dry           Machine Dbh   \n",
       "4  ...    Never Pay          Soft      Seasonal  Rainwater Harvesting   \n",
       "\n",
       "   source_class              waterpoint_type    status_group  year month day  \n",
       "0   Groundwater           Communal Standpipe      Functional  2011     3  14  \n",
       "1       Surface           Communal Standpipe      Functional  2013     3   6  \n",
       "2       Surface  Communal Standpipe Multiple      Functional  2013     2  25  \n",
       "3   Groundwater  Communal Standpipe Multiple  Non Functional  2013     1  28  \n",
       "4       Surface           Communal Standpipe      Functional  2011     7  13  \n",
       "\n",
       "[5 rows x 30 columns]"
      ]
     },
     "execution_count": 396,
     "metadata": {},
     "output_type": "execute_result"
    }
   ],
   "source": [
    "# Convert values in each column to title cases\n",
    "df_train = data_cleaning.convert_to_title_case(df_train)\n",
    "df_train.head()"
   ]
  },
  {
   "cell_type": "code",
   "execution_count": 397,
   "id": "57c29c3a-6adb-4e55-bac6-27dc756ff8ed",
   "metadata": {},
   "outputs": [
    {
     "data": {
      "text/html": [
       "<div>\n",
       "<style scoped>\n",
       "    .dataframe tbody tr th:only-of-type {\n",
       "        vertical-align: middle;\n",
       "    }\n",
       "\n",
       "    .dataframe tbody tr th {\n",
       "        vertical-align: top;\n",
       "    }\n",
       "\n",
       "    .dataframe thead th {\n",
       "        text-align: right;\n",
       "    }\n",
       "</style>\n",
       "<table border=\"1\" class=\"dataframe\">\n",
       "  <thead>\n",
       "    <tr style=\"text-align: right;\">\n",
       "      <th></th>\n",
       "      <th>id</th>\n",
       "      <th>amount_tsh</th>\n",
       "      <th>funder</th>\n",
       "      <th>gps_height</th>\n",
       "      <th>installer</th>\n",
       "      <th>longitude</th>\n",
       "      <th>latitude</th>\n",
       "      <th>wpt_name</th>\n",
       "      <th>num_private</th>\n",
       "      <th>basin</th>\n",
       "      <th>...</th>\n",
       "      <th>management_group</th>\n",
       "      <th>payment_type</th>\n",
       "      <th>water_quality</th>\n",
       "      <th>quantity</th>\n",
       "      <th>source</th>\n",
       "      <th>source_class</th>\n",
       "      <th>waterpoint_type</th>\n",
       "      <th>year</th>\n",
       "      <th>month</th>\n",
       "      <th>day</th>\n",
       "    </tr>\n",
       "  </thead>\n",
       "  <tbody>\n",
       "    <tr>\n",
       "      <th>14845</th>\n",
       "      <td>39307</td>\n",
       "      <td>0.0</td>\n",
       "      <td>Danida</td>\n",
       "      <td>34</td>\n",
       "      <td>Da</td>\n",
       "      <td>38.852669</td>\n",
       "      <td>-6.582841</td>\n",
       "      <td>Kwambwezi</td>\n",
       "      <td>0</td>\n",
       "      <td>Wami / Ruvu</td>\n",
       "      <td>...</td>\n",
       "      <td>User-Group</td>\n",
       "      <td>Never Pay</td>\n",
       "      <td>Soft</td>\n",
       "      <td>Enough</td>\n",
       "      <td>River</td>\n",
       "      <td>Surface</td>\n",
       "      <td>Communal Standpipe</td>\n",
       "      <td>2011</td>\n",
       "      <td>2</td>\n",
       "      <td>24</td>\n",
       "    </tr>\n",
       "    <tr>\n",
       "      <th>14846</th>\n",
       "      <td>18990</td>\n",
       "      <td>1000.0</td>\n",
       "      <td>Hiap</td>\n",
       "      <td>0</td>\n",
       "      <td>Hiap</td>\n",
       "      <td>37.451633</td>\n",
       "      <td>-5.350428</td>\n",
       "      <td>Bonde La Mkondoa</td>\n",
       "      <td>0</td>\n",
       "      <td>Pangani</td>\n",
       "      <td>...</td>\n",
       "      <td>User-Group</td>\n",
       "      <td>Annually</td>\n",
       "      <td>Salty</td>\n",
       "      <td>Insufficient</td>\n",
       "      <td>Shallow Well</td>\n",
       "      <td>Groundwater</td>\n",
       "      <td>Hand Pump</td>\n",
       "      <td>2011</td>\n",
       "      <td>3</td>\n",
       "      <td>21</td>\n",
       "    </tr>\n",
       "    <tr>\n",
       "      <th>14847</th>\n",
       "      <td>28749</td>\n",
       "      <td>0.0</td>\n",
       "      <td>Government Of Tanzania</td>\n",
       "      <td>1476</td>\n",
       "      <td>Dwe</td>\n",
       "      <td>34.739804</td>\n",
       "      <td>-4.585587</td>\n",
       "      <td>Bwawani</td>\n",
       "      <td>0</td>\n",
       "      <td>Internal</td>\n",
       "      <td>...</td>\n",
       "      <td>User-Group</td>\n",
       "      <td>Never Pay</td>\n",
       "      <td>Soft</td>\n",
       "      <td>Insufficient</td>\n",
       "      <td>Dam</td>\n",
       "      <td>Surface</td>\n",
       "      <td>Communal Standpipe</td>\n",
       "      <td>2013</td>\n",
       "      <td>3</td>\n",
       "      <td>4</td>\n",
       "    </tr>\n",
       "    <tr>\n",
       "      <th>14848</th>\n",
       "      <td>33492</td>\n",
       "      <td>0.0</td>\n",
       "      <td>Germany</td>\n",
       "      <td>998</td>\n",
       "      <td>Dwe</td>\n",
       "      <td>35.432732</td>\n",
       "      <td>-10.584159</td>\n",
       "      <td>Kwa John</td>\n",
       "      <td>0</td>\n",
       "      <td>Lake Nyasa</td>\n",
       "      <td>...</td>\n",
       "      <td>User-Group</td>\n",
       "      <td>Never Pay</td>\n",
       "      <td>Soft</td>\n",
       "      <td>Insufficient</td>\n",
       "      <td>River</td>\n",
       "      <td>Surface</td>\n",
       "      <td>Communal Standpipe</td>\n",
       "      <td>2013</td>\n",
       "      <td>2</td>\n",
       "      <td>18</td>\n",
       "    </tr>\n",
       "    <tr>\n",
       "      <th>14849</th>\n",
       "      <td>68707</td>\n",
       "      <td>0.0</td>\n",
       "      <td>Government Of Tanzania</td>\n",
       "      <td>481</td>\n",
       "      <td>Government</td>\n",
       "      <td>34.765054</td>\n",
       "      <td>-11.226012</td>\n",
       "      <td>Kwa Mzee Chagala</td>\n",
       "      <td>0</td>\n",
       "      <td>Lake Nyasa</td>\n",
       "      <td>...</td>\n",
       "      <td>User-Group</td>\n",
       "      <td>Never Pay</td>\n",
       "      <td>Soft</td>\n",
       "      <td>Dry</td>\n",
       "      <td>Spring</td>\n",
       "      <td>Groundwater</td>\n",
       "      <td>Communal Standpipe</td>\n",
       "      <td>2013</td>\n",
       "      <td>2</td>\n",
       "      <td>13</td>\n",
       "    </tr>\n",
       "  </tbody>\n",
       "</table>\n",
       "<p>5 rows × 30 columns</p>\n",
       "</div>"
      ],
      "text/plain": [
       "          id  amount_tsh                  funder  gps_height   installer  \\\n",
       "14845  39307         0.0                  Danida          34          Da   \n",
       "14846  18990      1000.0                    Hiap           0        Hiap   \n",
       "14847  28749         0.0  Government Of Tanzania        1476         Dwe   \n",
       "14848  33492         0.0                 Germany         998         Dwe   \n",
       "14849  68707         0.0  Government Of Tanzania         481  Government   \n",
       "\n",
       "       longitude   latitude          wpt_name  num_private        basin  ...  \\\n",
       "14845  38.852669  -6.582841         Kwambwezi            0  Wami / Ruvu  ...   \n",
       "14846  37.451633  -5.350428  Bonde La Mkondoa            0      Pangani  ...   \n",
       "14847  34.739804  -4.585587           Bwawani            0     Internal  ...   \n",
       "14848  35.432732 -10.584159          Kwa John            0   Lake Nyasa  ...   \n",
       "14849  34.765054 -11.226012  Kwa Mzee Chagala            0   Lake Nyasa  ...   \n",
       "\n",
       "      management_group payment_type water_quality      quantity        source  \\\n",
       "14845       User-Group    Never Pay          Soft        Enough         River   \n",
       "14846       User-Group     Annually         Salty  Insufficient  Shallow Well   \n",
       "14847       User-Group    Never Pay          Soft  Insufficient           Dam   \n",
       "14848       User-Group    Never Pay          Soft  Insufficient         River   \n",
       "14849       User-Group    Never Pay          Soft           Dry        Spring   \n",
       "\n",
       "       source_class     waterpoint_type  year month day  \n",
       "14845       Surface  Communal Standpipe  2011     2  24  \n",
       "14846   Groundwater           Hand Pump  2011     3  21  \n",
       "14847       Surface  Communal Standpipe  2013     3   4  \n",
       "14848       Surface  Communal Standpipe  2013     2  18  \n",
       "14849   Groundwater  Communal Standpipe  2013     2  13  \n",
       "\n",
       "[5 rows x 30 columns]"
      ]
     },
     "execution_count": 397,
     "metadata": {},
     "output_type": "execute_result"
    }
   ],
   "source": [
    "#Convert all categorical column values to title case of the test_values\n",
    "test_values = data_cleaning.convert_to_title_case(test_values)\n",
    "test_values.tail()"
   ]
  },
  {
   "cell_type": "markdown",
   "id": "0b9824cb-2188-43e2-9a33-6035ac9ddc6a",
   "metadata": {},
   "source": [
    "### 1.5. column names standardize them as well for uniformity \n",
    "To format the column names to be uniform and ensure they are well formatted "
   ]
  },
  {
   "cell_type": "code",
   "execution_count": 399,
   "id": "7dcf8e78-6e6b-4c4b-b4fb-ee4c3e4039f1",
   "metadata": {},
   "outputs": [
    {
     "data": {
      "text/plain": [
       "Index(['Amount_Tsh', 'Funder', 'Gps_Height', 'Installer', 'Longitude',\n",
       "       'Latitude', 'Wpt_Name', 'Num_Private', 'Basin', 'Subvillage', 'Region',\n",
       "       'Lga', 'Ward', 'Population', 'Public_Meeting', 'Permit',\n",
       "       'Construction_Year', 'Extraction_Type', 'Management',\n",
       "       'Management_Group', 'Payment_Type', 'Water_Quality', 'Quantity',\n",
       "       'Source', 'Source_Class', 'Waterpoint_Type', 'Status_Group', 'Year',\n",
       "       'Month', 'Day'],\n",
       "      dtype='object')"
      ]
     },
     "execution_count": 399,
     "metadata": {},
     "output_type": "execute_result"
    }
   ],
   "source": [
    "# Convert column names to title case\n",
    "df_train = data_cleaning.convert_column_names_to_title_case(df_train)\n",
    "df_train.columns"
   ]
  },
  {
   "cell_type": "code",
   "execution_count": 400,
   "id": "d5cd5ff8-1dfb-4063-b080-590037551ce5",
   "metadata": {},
   "outputs": [
    {
     "data": {
      "text/plain": [
       "Index(['Id', 'Amount_Tsh', 'Funder', 'Gps_Height', 'Installer', 'Longitude',\n",
       "       'Latitude', 'Wpt_Name', 'Num_Private', 'Basin', 'Subvillage', 'Region',\n",
       "       'Lga', 'Ward', 'Population', 'Public_Meeting', 'Permit',\n",
       "       'Construction_Year', 'Extraction_Type', 'Management',\n",
       "       'Management_Group', 'Payment_Type', 'Water_Quality', 'Quantity',\n",
       "       'Source', 'Source_Class', 'Waterpoint_Type', 'Year', 'Month', 'Day'],\n",
       "      dtype='object')"
      ]
     },
     "execution_count": 400,
     "metadata": {},
     "output_type": "execute_result"
    }
   ],
   "source": [
    "#column names standardize them as well for uniformity of test values\n",
    "test_values = data_cleaning.convert_column_names_to_title_case(test_values)\n",
    "test_values.columns"
   ]
  },
  {
   "cell_type": "markdown",
   "id": "371873bb-621f-44f2-9d09-f37acd0b562c",
   "metadata": {},
   "source": [
    "### 1.6. Remove trailing/leading whitespace"
   ]
  },
  {
   "cell_type": "code",
   "execution_count": 402,
   "id": "5e5c4aff-9037-401c-94f8-ed42750d46bc",
   "metadata": {},
   "outputs": [],
   "source": [
    "# Strip leading/trailing whitespace from all string columns of the train dataframe\n",
    "df_train = data_cleaning.strip_whitespace(df_train)"
   ]
  },
  {
   "cell_type": "code",
   "execution_count": 403,
   "id": "20889561-d8e0-4c27-9a73-ebdd52138558",
   "metadata": {},
   "outputs": [],
   "source": [
    "## Strip leading/trailing whitespace from all string columns of test values\n",
    "test_values = data_cleaning.strip_whitespace(test_values)"
   ]
  },
  {
   "cell_type": "markdown",
   "id": "88e732f1-149f-47c8-9ce3-90b3179055ec",
   "metadata": {},
   "source": [
    "## 2. Encoding Categorical columns\n",
    "Encoding converts categorical data into numerical formats that models can interpret."
   ]
  },
  {
   "cell_type": "code",
   "execution_count": 405,
   "id": "2b22ca40-6aaa-41c6-b3c9-6fc85134b18e",
   "metadata": {},
   "outputs": [],
   "source": [
    "# Initialize class encoding\n",
    "encoder = CategoricalEncoder(high_cardinality_threshold=15)"
   ]
  },
  {
   "cell_type": "markdown",
   "id": "d6ea3491-c49a-4317-ba1b-155b873da969",
   "metadata": {},
   "source": [
    "### 2.1. Identify the categorical columns"
   ]
  },
  {
   "cell_type": "code",
   "execution_count": 407,
   "id": "cf0dbd66-454d-467a-92ce-0c512b0b2062",
   "metadata": {},
   "outputs": [
    {
     "data": {
      "text/plain": [
       "['Funder',\n",
       " 'Installer',\n",
       " 'Wpt_Name',\n",
       " 'Basin',\n",
       " 'Subvillage',\n",
       " 'Region',\n",
       " 'Lga',\n",
       " 'Ward',\n",
       " 'Extraction_Type',\n",
       " 'Management',\n",
       " 'Management_Group',\n",
       " 'Payment_Type',\n",
       " 'Water_Quality',\n",
       " 'Quantity',\n",
       " 'Source',\n",
       " 'Source_Class',\n",
       " 'Waterpoint_Type',\n",
       " 'Status_Group']"
      ]
     },
     "execution_count": 407,
     "metadata": {},
     "output_type": "execute_result"
    }
   ],
   "source": [
    "# Identify categorical columns in df_train\n",
    "categorical_columns = encoder.identify_categorical_columns(df_train)\n",
    "\n",
    "# View the list of categorical columns\n",
    "categorical_columns"
   ]
  },
  {
   "cell_type": "code",
   "execution_count": 408,
   "id": "dc00c7f3-4ed8-4f89-bbc1-651182a1aa05",
   "metadata": {},
   "outputs": [
    {
     "data": {
      "text/plain": [
       "['Funder',\n",
       " 'Installer',\n",
       " 'Wpt_Name',\n",
       " 'Basin',\n",
       " 'Subvillage',\n",
       " 'Region',\n",
       " 'Lga',\n",
       " 'Ward',\n",
       " 'Extraction_Type',\n",
       " 'Management',\n",
       " 'Management_Group',\n",
       " 'Payment_Type',\n",
       " 'Water_Quality',\n",
       " 'Quantity',\n",
       " 'Source',\n",
       " 'Source_Class',\n",
       " 'Waterpoint_Type']"
      ]
     },
     "execution_count": 408,
     "metadata": {},
     "output_type": "execute_result"
    }
   ],
   "source": [
    "# Identify categorical columns in test_values\n",
    "categorical_columns = encoder.identify_categorical_columns(test_values)\n",
    "\n",
    "# View the list of categorical columns\n",
    "categorical_columns"
   ]
  },
  {
   "cell_type": "markdown",
   "id": "faf22360-28fd-4fc7-8410-6e0198666971",
   "metadata": {},
   "source": [
    "### 2.2. Encoding categorical train_predictors"
   ]
  },
  {
   "cell_type": "code",
   "execution_count": 410,
   "id": "e95adbb2-a3c7-4c33-9dfa-ac51bb1756a7",
   "metadata": {},
   "outputs": [
    {
     "name": "stdout",
     "output_type": "stream",
     "text": [
      "<class 'pandas.core.frame.DataFrame'>\n",
      "RangeIndex: 59400 entries, 0 to 59399\n",
      "Data columns (total 30 columns):\n",
      " #   Column             Non-Null Count  Dtype  \n",
      "---  ------             --------------  -----  \n",
      " 0   Amount_Tsh         59400 non-null  float64\n",
      " 1   Funder             59400 non-null  object \n",
      " 2   Gps_Height         59400 non-null  int64  \n",
      " 3   Installer          59400 non-null  object \n",
      " 4   Longitude          59400 non-null  float64\n",
      " 5   Latitude           59400 non-null  float64\n",
      " 6   Wpt_Name           59400 non-null  object \n",
      " 7   Num_Private        59400 non-null  int64  \n",
      " 8   Basin              59400 non-null  object \n",
      " 9   Subvillage         59400 non-null  object \n",
      " 10  Region             59400 non-null  object \n",
      " 11  Lga                59400 non-null  object \n",
      " 12  Ward               59400 non-null  object \n",
      " 13  Population         59400 non-null  int64  \n",
      " 14  Public_Meeting     59400 non-null  bool   \n",
      " 15  Permit             59400 non-null  bool   \n",
      " 16  Construction_Year  59400 non-null  int64  \n",
      " 17  Extraction_Type    59400 non-null  object \n",
      " 18  Management         59400 non-null  object \n",
      " 19  Management_Group   59400 non-null  object \n",
      " 20  Payment_Type       59400 non-null  object \n",
      " 21  Water_Quality      59400 non-null  object \n",
      " 22  Quantity           59400 non-null  object \n",
      " 23  Source             59400 non-null  object \n",
      " 24  Source_Class       59400 non-null  object \n",
      " 25  Waterpoint_Type    59400 non-null  object \n",
      " 26  Status_Group       59400 non-null  object \n",
      " 27  Year               59400 non-null  int64  \n",
      " 28  Month              59400 non-null  int64  \n",
      " 29  Day                59400 non-null  int64  \n",
      "dtypes: bool(2), float64(3), int64(7), object(18)\n",
      "memory usage: 12.8+ MB\n"
     ]
    }
   ],
   "source": [
    "# Encode predictors (categorical columns) in the df_train\n",
    "#  Separate the target variable before encoding predictors\n",
    "df_train_target = df_train['Status_Group']\n",
    "df_train_predictors = df_train.drop(columns=['Status_Group'])\n",
    "\n",
    "#  Apply encoding to predictors\n",
    "df_train_predictors = encoder.encode_predictors(df_train_predictors)\n",
    "\n",
    "df_train.info()"
   ]
  },
  {
   "cell_type": "code",
   "execution_count": 411,
   "id": "cc1c871f-fcd5-48ca-a92b-ff9883617004",
   "metadata": {},
   "outputs": [
    {
     "name": "stdout",
     "output_type": "stream",
     "text": [
      "<class 'pandas.core.frame.DataFrame'>\n",
      "RangeIndex: 14850 entries, 0 to 14849\n",
      "Data columns (total 30 columns):\n",
      " #   Column             Non-Null Count  Dtype  \n",
      "---  ------             --------------  -----  \n",
      " 0   Id                 14850 non-null  int64  \n",
      " 1   Amount_Tsh         14850 non-null  float64\n",
      " 2   Funder             14850 non-null  float64\n",
      " 3   Gps_Height         14850 non-null  int64  \n",
      " 4   Installer          14850 non-null  float64\n",
      " 5   Longitude          14850 non-null  float64\n",
      " 6   Latitude           14850 non-null  float64\n",
      " 7   Wpt_Name           14850 non-null  float64\n",
      " 8   Num_Private        14850 non-null  int64  \n",
      " 9   Basin              14850 non-null  int8   \n",
      " 10  Subvillage         14850 non-null  float64\n",
      " 11  Region             14850 non-null  float64\n",
      " 12  Lga                14850 non-null  float64\n",
      " 13  Ward               14850 non-null  float64\n",
      " 14  Population         14850 non-null  int64  \n",
      " 15  Public_Meeting     14850 non-null  bool   \n",
      " 16  Permit             14850 non-null  bool   \n",
      " 17  Construction_Year  14850 non-null  int64  \n",
      " 18  Extraction_Type    14850 non-null  float64\n",
      " 19  Management         14850 non-null  int8   \n",
      " 20  Management_Group   14850 non-null  int8   \n",
      " 21  Payment_Type       14850 non-null  int8   \n",
      " 22  Water_Quality      14850 non-null  int8   \n",
      " 23  Quantity           14850 non-null  int8   \n",
      " 24  Source             14850 non-null  int8   \n",
      " 25  Source_Class       14850 non-null  int8   \n",
      " 26  Waterpoint_Type    14850 non-null  int8   \n",
      " 27  Year               14850 non-null  int64  \n",
      " 28  Month              14850 non-null  int64  \n",
      " 29  Day                14850 non-null  int64  \n",
      "dtypes: bool(2), float64(11), int64(8), int8(9)\n",
      "memory usage: 2.3 MB\n"
     ]
    }
   ],
   "source": [
    "# Encode predictors (categorical columns) in the test_values\n",
    "test_values = encoder.encode_predictors(test_values)\n",
    "test_values.info()"
   ]
  },
  {
   "cell_type": "markdown",
   "id": "a3940121-f15a-4e83-af9d-d84487ef075b",
   "metadata": {},
   "source": [
    "### 2.2 Encoding categorical train_target\n",
    "'Status_Group' has 3 classes and for ease of interpretation, the model needs to be restructured to binary and then encode the 2 classes."
   ]
  },
  {
   "cell_type": "code",
   "execution_count": 413,
   "id": "40e61192-a95e-4de2-86d5-7dcd7d06a9db",
   "metadata": {},
   "outputs": [
    {
     "name": "stdout",
     "output_type": "stream",
     "text": [
      "Encoded value counts for target variable:\n",
      "Status_Group\n",
      "0.0    32259\n",
      "1.0    27141\n",
      "Name: count, dtype: int64\n"
     ]
    }
   ],
   "source": [
    "# Combine the encoded predictors back with the target variable\n",
    "df_train = df_train_predictors.copy()\n",
    "df_train['Status_Group'] = df_train_target\n",
    "\n",
    "# Combine 'Non Functional' and 'Functional Needs Repair' into a single category 'Needs Repair' in order to ensure the target is binary\n",
    "df_train['Status_Group'] = df_train['Status_Group'].replace({\n",
    "    'Non Functional': 'Needs Repair',\n",
    "    'Functional Needs Repair': 'Needs Repair'\n",
    "})\n",
    "# Apply encoding to the target variable using the class method\n",
    "df_train = encoder.encode_target(df_train, 'Status_Group', ['Functional', 'Needs Repair'])\n",
    "\n",
    "# Verify the encoding\n",
    "print(\"Encoded value counts for target variable:\")\n",
    "print(df_train['Status_Group'].value_counts())\n"
   ]
  },
  {
   "cell_type": "markdown",
   "id": "a4961809-cd51-4d8e-81c0-d17d876de989",
   "metadata": {},
   "source": [
    "## 3. Converting Booleans to Numeric\n",
    "'Permit' and 'Public_Meeting' columns are in boolean data type"
   ]
  },
  {
   "cell_type": "code",
   "execution_count": 415,
   "id": "eb1827fb-8d5a-4db5-91bc-62cb7346e317",
   "metadata": {},
   "outputs": [
    {
     "name": "stdout",
     "output_type": "stream",
     "text": [
      "Boolean columns identified: ['Public_Meeting', 'Permit']\n",
      "<class 'pandas.core.frame.DataFrame'>\n",
      "RangeIndex: 59400 entries, 0 to 59399\n",
      "Data columns (total 30 columns):\n",
      " #   Column             Non-Null Count  Dtype  \n",
      "---  ------             --------------  -----  \n",
      " 0   Amount_Tsh         59400 non-null  float64\n",
      " 1   Funder             59400 non-null  float64\n",
      " 2   Gps_Height         59400 non-null  int64  \n",
      " 3   Installer          59400 non-null  float64\n",
      " 4   Longitude          59400 non-null  float64\n",
      " 5   Latitude           59400 non-null  float64\n",
      " 6   Wpt_Name           59400 non-null  float64\n",
      " 7   Num_Private        59400 non-null  int64  \n",
      " 8   Basin              59400 non-null  int8   \n",
      " 9   Subvillage         59400 non-null  float64\n",
      " 10  Region             59400 non-null  float64\n",
      " 11  Lga                59400 non-null  float64\n",
      " 12  Ward               59400 non-null  float64\n",
      " 13  Population         59400 non-null  int64  \n",
      " 14  Public_Meeting     59400 non-null  int32  \n",
      " 15  Permit             59400 non-null  int32  \n",
      " 16  Construction_Year  59400 non-null  int64  \n",
      " 17  Extraction_Type    59400 non-null  float64\n",
      " 18  Management         59400 non-null  int8   \n",
      " 19  Management_Group   59400 non-null  int8   \n",
      " 20  Payment_Type       59400 non-null  int8   \n",
      " 21  Water_Quality      59400 non-null  int8   \n",
      " 22  Quantity           59400 non-null  int8   \n",
      " 23  Source             59400 non-null  int8   \n",
      " 24  Source_Class       59400 non-null  int8   \n",
      " 25  Waterpoint_Type    59400 non-null  int8   \n",
      " 26  Year               59400 non-null  int64  \n",
      " 27  Month              59400 non-null  int64  \n",
      " 28  Day                59400 non-null  int64  \n",
      " 29  Status_Group       59400 non-null  float64\n",
      "dtypes: float64(12), int32(2), int64(7), int8(9)\n",
      "memory usage: 9.6 MB\n"
     ]
    }
   ],
   "source": [
    "# Initialize the BooleanToNumericConverter class\n",
    "converter = BooleanToNumericConverter()\n",
    "\n",
    "# Identify boolean columns in the DataFrame\n",
    "df_train_boolean_columns = converter.identify_boolean_columns(df_train)\n",
    "print(\"Boolean columns identified:\", df_train_boolean_columns)\n",
    "\n",
    "# Convert boolean columns to numeric\n",
    "df_train = converter.convert_booleans_to_numeric(df_train)\n",
    "\n",
    "\n",
    "df_train.info()\n"
   ]
  },
  {
   "cell_type": "code",
   "execution_count": 416,
   "id": "cac8e07e-a7c4-4aff-91b2-31fbc1ad681f",
   "metadata": {},
   "outputs": [
    {
     "name": "stdout",
     "output_type": "stream",
     "text": [
      "Boolean columns identified: ['Public_Meeting', 'Permit']\n",
      "<class 'pandas.core.frame.DataFrame'>\n",
      "RangeIndex: 14850 entries, 0 to 14849\n",
      "Data columns (total 30 columns):\n",
      " #   Column             Non-Null Count  Dtype  \n",
      "---  ------             --------------  -----  \n",
      " 0   Id                 14850 non-null  int64  \n",
      " 1   Amount_Tsh         14850 non-null  float64\n",
      " 2   Funder             14850 non-null  float64\n",
      " 3   Gps_Height         14850 non-null  int64  \n",
      " 4   Installer          14850 non-null  float64\n",
      " 5   Longitude          14850 non-null  float64\n",
      " 6   Latitude           14850 non-null  float64\n",
      " 7   Wpt_Name           14850 non-null  float64\n",
      " 8   Num_Private        14850 non-null  int64  \n",
      " 9   Basin              14850 non-null  int8   \n",
      " 10  Subvillage         14850 non-null  float64\n",
      " 11  Region             14850 non-null  float64\n",
      " 12  Lga                14850 non-null  float64\n",
      " 13  Ward               14850 non-null  float64\n",
      " 14  Population         14850 non-null  int64  \n",
      " 15  Public_Meeting     14850 non-null  int32  \n",
      " 16  Permit             14850 non-null  int32  \n",
      " 17  Construction_Year  14850 non-null  int64  \n",
      " 18  Extraction_Type    14850 non-null  float64\n",
      " 19  Management         14850 non-null  int8   \n",
      " 20  Management_Group   14850 non-null  int8   \n",
      " 21  Payment_Type       14850 non-null  int8   \n",
      " 22  Water_Quality      14850 non-null  int8   \n",
      " 23  Quantity           14850 non-null  int8   \n",
      " 24  Source             14850 non-null  int8   \n",
      " 25  Source_Class       14850 non-null  int8   \n",
      " 26  Waterpoint_Type    14850 non-null  int8   \n",
      " 27  Year               14850 non-null  int64  \n",
      " 28  Month              14850 non-null  int64  \n",
      " 29  Day                14850 non-null  int64  \n",
      "dtypes: float64(11), int32(2), int64(8), int8(9)\n",
      "memory usage: 2.4 MB\n"
     ]
    }
   ],
   "source": [
    "# Converting Permit' and 'Public_Meeting' columns are in boolean data type\n",
    "# Identify boolean columns in the DataFrame\n",
    "test_values_boolean_columns = converter.identify_boolean_columns(test_values)\n",
    "print(\"Boolean columns identified:\", test_values_boolean_columns)\n",
    "\n",
    "# Convert boolean columns to numeric\n",
    "test_values = converter.convert_booleans_to_numeric(test_values)\n",
    "\n",
    "\n",
    "test_values.info()"
   ]
  },
  {
   "cell_type": "markdown",
   "id": "bf709019-6c90-47ce-95ea-6b9f491cb275",
   "metadata": {},
   "source": [
    "## 4. Outliers Detection and Treatment\n",
    "First is detecting outliers, visualizing them using box plots by calculating interquartile range (IQR) for each numeric column, and identifying data points that lie outside 1.5 times the IQR from the 5th and 95th percentiles as outliers. Once detected, will be removed from the dataset to improve the quality of analysis."
   ]
  },
  {
   "cell_type": "code",
   "execution_count": 418,
   "id": "13fef413-5e23-4e2e-9158-ed978d2d51e3",
   "metadata": {},
   "outputs": [
    {
     "name": "stdout",
     "output_type": "stream",
     "text": [
      "Columns with outliers: ['Amount_Tsh', 'Longitude', 'Num_Private', 'Subvillage', 'Population', 'Water_Quality', 'Year']\n"
     ]
    },
    {
     "data": {
      "image/png": "[encoded data removed]",
      "text/plain": [
       "<Figure size 1800x600 with 7 Axes>"
      ]
     },
     "metadata": {},
     "output_type": "display_data"
    },
    {
     "name": "stdout",
     "output_type": "stream",
     "text": [
      "Original DataFrame size: (59400, 30)\n",
      "Cleaned DataFrame size: (53208, 30)\n"
     ]
    }
   ],
   "source": [
    "# Initialize the class\n",
    "outlier_treatment = OutlierDetectionTreatment(iqr_factor=1.5)\n",
    "\n",
    "# Detect outliers in the DataFrame\n",
    "columns_with_outliers = outlier_treatment.detect_outliers_iqr(df_train)\n",
    "\n",
    "# Print out columns with outliers\n",
    "print(\"Columns with outliers:\", columns_with_outliers)\n",
    "\n",
    "# Visualize the outliers using box plots\n",
    "outlier_treatment.visualize_outliers(df_train, columns_with_outliers)\n",
    "\n",
    "# Remove outliers from the identified columns\n",
    "df_cleaned = outlier_treatment.remove_outliers_iqr(df_train, columns_with_outliers)\n",
    "\n",
    "#  check the size difference to ensure outliers were removed\n",
    "print(f\"Original DataFrame size: {df_train.shape}\")\n",
    "print(f\"Cleaned DataFrame size: {df_cleaned.shape}\")\n"
   ]
  },
  {
   "cell_type": "markdown",
   "id": "5c67c781-fba2-43ac-83fb-688f99253ca3",
   "metadata": {},
   "source": [
    "About 10.42%% of the train data has been lost after removing the outliers"
   ]
  },
  {
   "cell_type": "code",
   "execution_count": 420,
   "id": "4c752c90-0fe8-483c-a1e7-a9232d60c7be",
   "metadata": {},
   "outputs": [
    {
     "name": "stdout",
     "output_type": "stream",
     "text": [
      "Columns with outliers: ['Amount_Tsh', 'Longitude', 'Num_Private', 'Subvillage', 'Population', 'Water_Quality', 'Year']\n"
     ]
    },
    {
     "data": {
      "image/png": "[encoded data removed]",
      "text/plain": [
       "<Figure size 1800x600 with 7 Axes>"
      ]
     },
     "metadata": {},
     "output_type": "display_data"
    },
    {
     "name": "stdout",
     "output_type": "stream",
     "text": [
      "Original DataFrame size: (14850, 30)\n",
      "Cleaned DataFrame size: (13452, 30)\n"
     ]
    }
   ],
   "source": [
    "# Removing outliers present in the test_value\n",
    "# Detect outliers in the DataFrame\n",
    "columns_with_outliers = outlier_treatment.detect_outliers_iqr(test_values)\n",
    "\n",
    "# Print out columns with outliers\n",
    "print(\"Columns with outliers:\", columns_with_outliers)\n",
    "\n",
    "# Visualize the outliers using box plots\n",
    "outlier_treatment.visualize_outliers(test_values, columns_with_outliers)\n",
    "\n",
    "# Remove outliers from the identified columns\n",
    "test_values_cleaned = outlier_treatment.remove_outliers_iqr(test_values, columns_with_outliers)\n",
    "\n",
    "#check the size difference to ensure outliers were removed\n",
    "print(f\"Original DataFrame size: {test_values.shape}\")\n",
    "print(f\"Cleaned DataFrame size: {test_values_cleaned.shape}\")\n"
   ]
  },
  {
   "cell_type": "markdown",
   "id": "ef081134-c6ee-4689-869f-02568240e5b6",
   "metadata": {},
   "source": [
    "About 9.41% of the the test_values is lost after removing the outliers"
   ]
  },
  {
   "cell_type": "markdown",
   "id": "497033ab-dea8-4628-b07f-ad01d02e0e5d",
   "metadata": {},
   "source": [
    "## 5. Construction_Year seems to have some zeros which is abnormal\n",
    "The zeros will be replaced with median since median ensures that the replaced values falls somewhere in the middle of the typical range, rather than distorting the data with a potentially inappropriate values"
   ]
  },
  {
   "cell_type": "code",
   "execution_count": 423,
   "id": "8531e933-ffe1-459d-85e1-55fdfaa80aae",
   "metadata": {},
   "outputs": [
    {
     "data": {
      "image/png": "[encoded data removed]",
      "text/plain": [
       "<Figure size 1000x600 with 1 Axes>"
      ]
     },
     "metadata": {},
     "output_type": "display_data"
    },
    {
     "data": {
      "image/png": "[encoded data removed]",
      "text/plain": [
       "<Figure size 1000x600 with 1 Axes>"
      ]
     },
     "metadata": {},
     "output_type": "display_data"
    }
   ],
   "source": [
    "# Dealing with the Construction year of the train data\n",
    "construction_handler = HandleConstructionYear(df_cleaned)\n",
    "df_cleaned = construction_handler.handle_zero_construction_year()"
   ]
  },
  {
   "cell_type": "markdown",
   "id": "e111c523-8b3d-4e5b-b48a-d2d2874017e2",
   "metadata": {},
   "source": [
    "#### Observation\n",
    "The '0's a from the train data are now eliminated from the 'Construction_Year' column"
   ]
  },
  {
   "cell_type": "code",
   "execution_count": 425,
   "id": "4a07d88f-1f40-43d0-98c0-99087c826bd0",
   "metadata": {},
   "outputs": [
    {
     "data": {
      "image/png": "[encoded data removed]",
      "text/plain": [
       "<Figure size 1000x600 with 1 Axes>"
      ]
     },
     "metadata": {},
     "output_type": "display_data"
    },
    {
     "data": {
      "image/png": "[encoded data removed]",
      "text/plain": [
       "<Figure size 1000x600 with 1 Axes>"
      ]
     },
     "metadata": {},
     "output_type": "display_data"
    }
   ],
   "source": [
    "# handling 0 values in 'Construction_Year' in test_values\n",
    "construction_handler = HandleConstructionYear(test_values_cleaned)\n",
    "test_values_cleaned = construction_handler.handle_zero_construction_year()"
   ]
  },
  {
   "cell_type": "markdown",
   "id": "d7021d15-ea8c-4372-9e22-46722cb5d155",
   "metadata": {},
   "source": [
    "###### Observation\n",
    "The '0's a from the test data are now eliminated from the 'Construction_Year' column"
   ]
  },
  {
   "cell_type": "markdown",
   "id": "7be57453-3dd4-4ba9-bb45-77adb35040ad",
   "metadata": {},
   "source": [
    "## 6. Explonatory Data Analysis"
   ]
  },
  {
   "cell_type": "markdown",
   "id": "dd207d07-2fd0-4e9a-a4fc-af4a1b60ec27",
   "metadata": {},
   "source": [
    "### 6.1. Univariate Analysis"
   ]
  },
  {
   "cell_type": "code",
   "execution_count": 429,
   "id": "540a951d-00d3-44c6-afa6-a8a7e4cc290a",
   "metadata": {},
   "outputs": [],
   "source": [
    "# Instantiate the class\n",
    "univariate = UnivariateEDA(df_cleaned)"
   ]
  },
  {
   "cell_type": "markdown",
   "id": "b9213389-e3c3-4334-80a4-d4330a19a99a",
   "metadata": {},
   "source": [
    "#### 6.1.1 Target Distribution: To visualize the distribution of the target variable:"
   ]
  },
  {
   "cell_type": "code",
   "execution_count": 431,
   "id": "7cfd890d-47a0-40b7-8779-ccaee47bc315",
   "metadata": {},
   "outputs": [
    {
     "data": {
      "image/png": "[encoded data removed]",
      "text/plain": [
       "<Figure size 800x600 with 1 Axes>"
      ]
     },
     "metadata": {},
     "output_type": "display_data"
    }
   ],
   "source": [
    "# plot the target variable\n",
    "univariate.plot_target_distribution(target_column='Status_Group')\n"
   ]
  },
  {
   "cell_type": "markdown",
   "id": "54625e11-c44d-403c-a557-e6121719e62c",
   "metadata": {},
   "source": [
    "The target variable value counts is slightly imbalanced therefore needs to be solved."
   ]
  },
  {
   "cell_type": "markdown",
   "id": "90dc099c-6300-4d91-a6fb-28942548283a",
   "metadata": {},
   "source": [
    "#### 6.1.2. Amount_Tsh: Distribution of Amounts, Population and Gps_Height"
   ]
  },
  {
   "cell_type": "code",
   "execution_count": 434,
   "id": "e8b26846-4fe1-4770-800c-a18b54c2dd92",
   "metadata": {},
   "outputs": [
    {
     "data": {
      "image/png": "[encoded data removed]",
      "text/plain": [
       "<Figure size 1400x600 with 3 Axes>"
      ]
     },
     "metadata": {},
     "output_type": "display_data"
    }
   ],
   "source": [
    "# Visualize the distribution of 'Amount_Tsh', 'Population', 'Gps_Height'\n",
    "univariate.plot_histograms(['Amount_Tsh', 'Population', 'Gps_Height'])\n"
   ]
  },
  {
   "cell_type": "markdown",
   "id": "f3738bc9-3186-4ab7-a004-6a8957673452",
   "metadata": {},
   "source": [
    "The 'Amount_Tsh', 'Population' and 'Gps_Height'are among the columns outliers were removed but still their distributions are skewed therefore scaling will be required before modeling."
   ]
  },
  {
   "cell_type": "markdown",
   "id": "5f923a6f-cdf1-49a8-a49e-5a3890558c46",
   "metadata": {},
   "source": [
    "#### 6.1.3. 'Amount_Tsh', 'Population', 'Gps_Height' to check for outliers"
   ]
  },
  {
   "cell_type": "code",
   "execution_count": 437,
   "id": "8d916a72-1338-4be6-85b2-0e77368a3587",
   "metadata": {},
   "outputs": [
    {
     "data": {
      "image/png": "[encoded data removed]",
      "text/plain": [
       "<Figure size 1800x600 with 3 Axes>"
      ]
     },
     "metadata": {},
     "output_type": "display_data"
    }
   ],
   "source": [
    "# Call the plot_boxplot method with the selected columns\n",
    "univariate.plot_boxplot(['Amount_Tsh', 'Population', 'Gps_Height'])\n"
   ]
  },
  {
   "cell_type": "markdown",
   "id": "4b439b4e-9789-4a84-8043-f3f72c5595a6",
   "metadata": {},
   "source": [
    "Even after removing the obvious outliers from the dataset, the remaining data still has some outliers. These may not be as extreme as the ones you initially removed, but they can still have a significant impact on your analysis and modeling. This is where log transformation can help."
   ]
  },
  {
   "cell_type": "code",
   "execution_count": 439,
   "id": "3d44b898-be71-447d-a6b0-2954d24beb3d",
   "metadata": {},
   "outputs": [
    {
     "name": "stdout",
     "output_type": "stream",
     "text": [
      "<class 'pandas.core.frame.DataFrame'>\n",
      "Index: 53208 entries, 1 to 59399\n",
      "Data columns (total 30 columns):\n",
      " #   Column             Non-Null Count  Dtype  \n",
      "---  ------             --------------  -----  \n",
      " 0   Amount_Tsh         53208 non-null  float64\n",
      " 1   Funder             53208 non-null  float64\n",
      " 2   Gps_Height         53208 non-null  int64  \n",
      " 3   Installer          53208 non-null  float64\n",
      " 4   Longitude          53208 non-null  float64\n",
      " 5   Latitude           53208 non-null  float64\n",
      " 6   Wpt_Name           53208 non-null  float64\n",
      " 7   Num_Private        53208 non-null  int64  \n",
      " 8   Basin              53208 non-null  int8   \n",
      " 9   Subvillage         53208 non-null  float64\n",
      " 10  Region             53208 non-null  float64\n",
      " 11  Lga                53208 non-null  float64\n",
      " 12  Ward               53208 non-null  float64\n",
      " 13  Population         53208 non-null  int64  \n",
      " 14  Public_Meeting     53208 non-null  int32  \n",
      " 15  Permit             53208 non-null  int32  \n",
      " 16  Construction_Year  53208 non-null  int64  \n",
      " 17  Extraction_Type    53208 non-null  float64\n",
      " 18  Management         53208 non-null  int8   \n",
      " 19  Management_Group   53208 non-null  int8   \n",
      " 20  Payment_Type       53208 non-null  int8   \n",
      " 21  Water_Quality      53208 non-null  int8   \n",
      " 22  Quantity           53208 non-null  int8   \n",
      " 23  Source             53208 non-null  int8   \n",
      " 24  Source_Class       53208 non-null  int8   \n",
      " 25  Waterpoint_Type    53208 non-null  int8   \n",
      " 26  Year               53208 non-null  int64  \n",
      " 27  Month              53208 non-null  int64  \n",
      " 28  Day                53208 non-null  int64  \n",
      " 29  Status_Group       53208 non-null  float64\n",
      "dtypes: float64(12), int32(2), int64(7), int8(9)\n",
      "memory usage: 9.0 MB\n"
     ]
    }
   ],
   "source": [
    "df_cleaned.info()"
   ]
  },
  {
   "cell_type": "markdown",
   "id": "a64921b3-d8b8-4da5-b19f-006e209b056a",
   "metadata": {},
   "source": [
    "#### 6.1.4 Log transform all skewed columns\n",
    " Check for skewness then proceed to log-transform the columns with significant skewness (greater than 1 or less than -1), particularly:"
   ]
  },
  {
   "cell_type": "code",
   "execution_count": 441,
   "id": "ee2fa2ea-2951-4d0a-9d94-4ab2afe9c3dc",
   "metadata": {},
   "outputs": [
    {
     "name": "stdout",
     "output_type": "stream",
     "text": [
      "Amount_Tsh           4.270418\n",
      "Funder               1.271698\n",
      "Gps_Height           0.441227\n",
      "Installer            0.621286\n",
      "Longitude           -0.102234\n",
      "Latitude            -0.261199\n",
      "Wpt_Name             3.183565\n",
      "Num_Private          0.000000\n",
      "Subvillage           4.531281\n",
      "Region               0.091481\n",
      "Lga                  2.147033\n",
      "Ward                 2.149881\n",
      "Population           2.624681\n",
      "Construction_Year   -1.192108\n",
      "Extraction_Type      0.062841\n",
      "Year                 0.157767\n",
      "Month                0.896372\n",
      "Day                 -0.034430\n",
      "Status_Group         0.162241\n",
      "dtype: float64\n"
     ]
    }
   ],
   "source": [
    "# Calculate skewness for all numerical columns\n",
    "skew_values = df_cleaned.select_dtypes(include=['float64', 'int64']).skew()\n",
    "print(skew_values)\n"
   ]
  },
  {
   "cell_type": "code",
   "execution_count": 442,
   "id": "a1f1c34c-4196-4dcf-b947-4082786ca87e",
   "metadata": {},
   "outputs": [
    {
     "name": "stdout",
     "output_type": "stream",
     "text": [
      "Index(['Amount_Tsh', 'Funder', 'Gps_Height', 'Installer', 'Longitude',\n",
      "       'Latitude', 'Wpt_Name', 'Num_Private', 'Basin', 'Subvillage', 'Region',\n",
      "       'Lga', 'Ward', 'Population', 'Public_Meeting', 'Permit',\n",
      "       'Construction_Year', 'Extraction_Type', 'Management',\n",
      "       'Management_Group', 'Payment_Type', 'Water_Quality', 'Quantity',\n",
      "       'Source', 'Source_Class', 'Waterpoint_Type', 'Year', 'Month', 'Day',\n",
      "       'Status_Group'],\n",
      "      dtype='object')\n"
     ]
    }
   ],
   "source": [
    "# Columns to be transformed based on skewness values\n",
    "columns_to_transform = ['Amount_Tsh', 'Wpt_Name', 'Subvillage', 'Lga', 'Ward']\n",
    "\n",
    "# Check and transform skewness with threshold 1\n",
    "df_transformed = univariate.check_and_transform_skewness(threshold=1)\n",
    "\n",
    "# Print the columns of the transformed DataFrame\n",
    "print(df_transformed.columns)\n"
   ]
  },
  {
   "cell_type": "code",
   "execution_count": 443,
   "id": "7b114f83-bac2-452f-8c38-8abe30dd748e",
   "metadata": {},
   "outputs": [
    {
     "name": "stdout",
     "output_type": "stream",
     "text": [
      "Amount_Tsh           1.311728\n",
      "Funder               1.259627\n",
      "Gps_Height           0.441227\n",
      "Installer            0.621286\n",
      "Longitude           -0.102234\n",
      "Latitude            -0.261199\n",
      "Wpt_Name             3.171270\n",
      "Num_Private          0.000000\n",
      "Subvillage           4.525191\n",
      "Region               0.091481\n",
      "Lga                  2.108854\n",
      "Ward                 2.146085\n",
      "Population           0.092843\n",
      "Construction_Year   -1.204357\n",
      "Extraction_Type      0.062841\n",
      "Year                 0.157767\n",
      "Month                0.896372\n",
      "Day                 -0.034430\n",
      "Status_Group         0.162241\n",
      "dtype: float64\n"
     ]
    }
   ],
   "source": [
    "# Calculate skewness for all numerical columns\n",
    "skew_values = df_transformed.select_dtypes(include=['float64', 'int64']).skew()\n",
    "print(skew_values)"
   ]
  },
  {
   "cell_type": "markdown",
   "id": "70c93fdc-b7bb-4c7e-9642-b01d45af920d",
   "metadata": {},
   "source": [
    "Log transformation is effective for significantly skewed data, particularly when skewness is high (e.g., Amount_Tsh, Population). However, for moderately skewed data (e.g., Wpt_Name, Subvillage), the effect may be less pronounced. Therefore scaling will be required. Num_private will  be dropped."
   ]
  },
  {
   "cell_type": "code",
   "execution_count": 445,
   "id": "d6ec181e-250e-415e-b3a1-e1c3da76b19d",
   "metadata": {},
   "outputs": [],
   "source": [
    "# drop 'Num_Private' column\n",
    "df_tranformed = df_transformed.drop(columns =['Num_Private'])"
   ]
  },
  {
   "cell_type": "markdown",
   "id": "44ad6d00-f00f-4747-9236-513228297b7e",
   "metadata": {},
   "source": [
    "### 6.2. Bivariate Analysis"
   ]
  },
  {
   "cell_type": "markdown",
   "id": "65343b17-678d-4597-aad9-e56142420ae5",
   "metadata": {},
   "source": [
    "#### 6.2.1. Correlation Matrix Using Bar plot"
   ]
  },
  {
   "cell_type": "code",
   "execution_count": 448,
   "id": "93d36359-18a8-433f-8c9b-14e3d621719b",
   "metadata": {},
   "outputs": [],
   "source": [
    "# Initialize the BivariateEDA object with the cleaned DataFrame\n",
    "bivariate = BivariateEDA(df_transformed)"
   ]
  },
  {
   "cell_type": "code",
   "execution_count": 449,
   "id": "60cbba0c-7d19-49cf-afb9-bb2b3c021d24",
   "metadata": {},
   "outputs": [
    {
     "name": "stdout",
     "output_type": "stream",
     "text": [
      "\n",
      "Strong Correlations (>0.3):\n",
      "Management       Management_Group    0.606816\n",
      "Waterpoint_Type  Extraction_Type     0.538865\n",
      "Basin            Longitude           0.529498\n",
      "Ward             Lga                 0.514539\n",
      "Extraction_Type  Source              0.489835\n",
      "Lga              Region              0.473722\n",
      "Gps_Height       Population          0.450859\n",
      "Month            Longitude           0.394784\n",
      "Population       Month               0.373348\n",
      "Year             Population          0.365073\n",
      "Lga              Gps_Height          0.355406\n",
      "Gps_Height       Year                0.350188\n",
      "Region           Year                0.344880\n",
      "Extraction_Type  Region              0.331095\n",
      "Source_Class     Waterpoint_Type     0.328202\n",
      "Extraction_Type  Gps_Height          0.327077\n",
      "Wpt_Name         Region              0.326980\n",
      "Funder           Installer           0.324397\n",
      "Month            Latitude            0.318793\n",
      "Source           Region              0.317523\n",
      "Gps_Height       Wpt_Name            0.316684\n",
      "Population       Amount_Tsh          0.313094\n",
      "Month            Year                0.307516\n",
      "Longitude        Latitude            0.305562\n",
      "Extraction_Type  Source_Class        0.301789\n",
      "dtype: float64\n"
     ]
    },
    {
     "data": {
      "image/png": "[encoded data removed]",
      "text/plain": [
       "<Figure size 1200x800 with 1 Axes>"
      ]
     },
     "metadata": {},
     "output_type": "display_data"
    }
   ],
   "source": [
    "# Plot the sorted correlation matrix using a bar graph\n",
    "bivariate.plot_sorted_correlation()\n"
   ]
  },
  {
   "cell_type": "markdown",
   "id": "ac0bf4f3-a7fe-41a8-bafd-a22807edd56f",
   "metadata": {},
   "source": [
    "Some of these columns seem to be correlated to each other therefore checking for mulitcollinearity using VIF will be necessary for further investigation"
   ]
  },
  {
   "cell_type": "markdown",
   "id": "07bb155d-d115-48dc-ba28-f042fa24e449",
   "metadata": {},
   "source": [
    "#### 6.2.2. Relationship between longitude and latitude using Scatter plot"
   ]
  },
  {
   "cell_type": "code",
   "execution_count": 452,
   "id": "0b94cd5a-2698-4557-b422-33bd142b755d",
   "metadata": {},
   "outputs": [
    {
     "data": {
      "image/png": "[encoded data removed]",
      "text/plain": [
       "<Figure size 800x600 with 1 Axes>"
      ]
     },
     "metadata": {},
     "output_type": "display_data"
    }
   ],
   "source": [
    "# Call the plot_scatter method to visualize the relationship between 'Longitude' and 'Latitude'\n",
    "bivariate.plot_scatter(x_column='Longitude', y_column='Latitude')\n"
   ]
  },
  {
   "cell_type": "markdown",
   "id": "94f70319-d656-49b3-8bf9-a16036d13a02",
   "metadata": {},
   "source": [
    "The scatter plot of Longitude and Latitude reveals a geographic distribution of the data points, potentially indicating clusters or concentrations in specific regions. This could suggest that certain areas have higher occurrences of the wells, which may inform regional patterns or trends that are worth investigating further."
   ]
  },
  {
   "cell_type": "markdown",
   "id": "7bfae73a-e5ad-4d5d-8628-8ceb92dac39c",
   "metadata": {},
   "source": [
    "#### 6.2.3. Distribution for 'Waterpoint_Type' based on the 'Status_Group'"
   ]
  },
  {
   "cell_type": "code",
   "execution_count": 455,
   "id": "cfead701-7642-4ea1-85a7-7d2702a31fae",
   "metadata": {},
   "outputs": [
    {
     "data": {
      "image/png": "[encoded data removed]",
      "text/plain": [
       "<Figure size 1000x600 with 1 Axes>"
      ]
     },
     "metadata": {},
     "output_type": "display_data"
    }
   ],
   "source": [
    "# Call the plot_countplot method to visualize the distribution of 'Waterpoint_Type' by 'Status_Group'\n",
    "bivariate.plot_countplot(x_column='Waterpoint_Type', hue_column='Status_Group')\n"
   ]
  },
  {
   "cell_type": "markdown",
   "id": "4826423f-983c-4c26-bbea-4116615200ec",
   "metadata": {},
   "source": [
    "Communal standpipe and communal standpipe multiple water standpoints seem to be the highest both the functional wells and the wells that need repair."
   ]
  },
  {
   "cell_type": "markdown",
   "id": "a820a0ea-88ca-497d-8b82-6f1ff257deb9",
   "metadata": {},
   "source": [
    "#### 6.2.4 visualize how 'Amount_Tsh' is distributed by 'Status_Group'"
   ]
  },
  {
   "cell_type": "code",
   "execution_count": 458,
   "id": "414b9eeb-3a07-4dc8-973c-39c92f3fc735",
   "metadata": {},
   "outputs": [
    {
     "data": {
      "image/png": "[encoded data removed]",
      "text/plain": [
       "<Figure size 1000x600 with 1 Axes>"
      ]
     },
     "metadata": {},
     "output_type": "display_data"
    }
   ],
   "source": [
    "# Call the plot_countplot method to visualize how 'Amount_Tsh' is distributed by 'Status_Group'\n",
    "bivariate.plot_countplot(x_column='Status_Group',hue_column='Amount_Tsh')"
   ]
  },
  {
   "cell_type": "markdown",
   "id": "4748f616-26da-4804-90dd-c3fe5375c7d0",
   "metadata": {},
   "source": [
    "Even though there is high counts of the wells with amounts recorded 0s, generally there is a trend of more expensive wells being  functional than the cheaper ones. "
   ]
  },
  {
   "cell_type": "markdown",
   "id": "dc4f8507-15e9-4e18-aaed-455d4609496b",
   "metadata": {},
   "source": [
    "#### 6.2.5 Feature_importance"
   ]
  },
  {
   "cell_type": "code",
   "execution_count": null,
   "id": "c13dcc64-26fc-48d5-aaa1-de578e218a61",
   "metadata": {},
   "outputs": [],
   "source": [
    "# Call the plot_feature_importance method, passing the target column name\n",
    "bivariate.plot_feature_importance(target_column='Status_Group')"
   ]
  },
  {
   "cell_type": "markdown",
   "id": "60df4773-b473-4ade-ab1f-001a529b4547",
   "metadata": {},
   "source": [
    "Only Num_Private will be dropped since it has no use to the model"
   ]
  },
  {
   "cell_type": "markdown",
   "id": "ee2b98fe-33dc-449b-b44b-64a0ca08f760",
   "metadata": {},
   "source": [
    "### 6.3. Multivariate Analysis"
   ]
  },
  {
   "cell_type": "markdown",
   "id": "ed123be8-f30a-47f3-8466-440c1cf54a4e",
   "metadata": {},
   "source": [
    "#### 6.3.1. Checking Multicollinearity throught VIF"
   ]
  },
  {
   "cell_type": "code",
   "execution_count": null,
   "id": "51828cad-9cb3-4d19-a325-a9059990cdf2",
   "metadata": {},
   "outputs": [],
   "source": [
    "# Intialize the class\n",
    "Multivariate = MultivariateEDA(df_transformed)\n",
    "vif_data = Multivariate.calculate_vif()\n",
    "print(vif_data)\n"
   ]
  },
  {
   "cell_type": "markdown",
   "id": "f88c5efc-7f6b-436d-9e7a-8cb7e2bcebef",
   "metadata": {},
   "source": [
    "Most of your features have VIF values between 1 and 2 (e.g., Gps_Height, Longitude, Month, Latitude, etc.), which generally indicates that there is little to no multicollinearity between these features. This is ideal, as these features are not highly correlated with each other therefore will not drop any."
   ]
  },
  {
   "cell_type": "markdown",
   "id": "fbd8bfd6-f300-4c9d-ac0d-6256aab0333e",
   "metadata": {},
   "source": [
    "## 7. Feature Engineering\n",
    "interaction terms were created by multiplying features such as Population and Management_Group to capture their combined effect, and Years_Since_Construction was calculated to represent the age of the waterpoint. Additionally, Construction_Age_Group was created by binning the Years_Since_Construction into categorical age groups, and this categorical feature was encoded numerically using label encoding for use in machine learning models."
   ]
  },
  {
   "cell_type": "code",
   "execution_count": null,
   "id": "1a02bc72-8f1d-4536-aeda-83ebe9e1c9a7",
   "metadata": {},
   "outputs": [],
   "source": [
    "# Initializing the class feature engineering\n",
    "feature_engineering = FeatureEngineering(df_transformed)\n",
    "feature_engineering.apply_feature_engineering()\n",
    "feature_engineering.add_custom_features()\n",
    "\n",
    "# Get the updated DataFrame with new features\n",
    "df_feature_engineered = feature_engineering.get_df()"
   ]
  },
  {
   "cell_type": "markdown",
   "id": "78e3a152-885c-4ef4-83d3-6218bb7d2fbf",
   "metadata": {},
   "source": [
    "Checking for VIF after feature engineering"
   ]
  },
  {
   "cell_type": "code",
   "execution_count": null,
   "id": "29c8c977-a4c6-4ced-9a7b-43c3e510dab2",
   "metadata": {},
   "outputs": [],
   "source": [
    "# Intialize the class\n",
    "Multivariate = MultivariateEDA(df_feature_engineered)\n",
    "vif_data = Multivariate.calculate_vif()\n",
    "print(vif_data)"
   ]
  },
  {
   "cell_type": "markdown",
   "id": "e76eed6c-228f-414c-b8fd-349763080b8b",
   "metadata": {},
   "source": [
    "Based on the domain knowledge, feature importance and the correlation, decided to retain the following columns to used for modeling"
   ]
  },
  {
   "cell_type": "code",
   "execution_count": null,
   "id": "9c268581-af9d-4c11-8593-09af9c069efc",
   "metadata": {},
   "outputs": [],
   "source": [
    "# List of columns to retain\n",
    "columns_to_retain = [\n",
    "    'Quantity', 'Longitude', 'Latitude', 'Waterpoint_Type', \n",
    "    'Gps_Height', 'Construction_Year', 'Subvillage', 'Day', \n",
    "    'Ward', 'Population', 'Funder', 'Extraction_Type', \n",
    "   'Wpt_Name', 'Amount_Tsh', 'Lga', 'Installer', 'Status_Group'\n",
    "]\n",
    "\n",
    "# Creating the cleaned DataFrame with only the columns to retain\n",
    "df_train_final = df_cleaned[columns_to_retain]\n",
    "\n",
    "# Display the first few rows of the cleaned DataFrame\n",
    "df_train_final.info()\n"
   ]
  },
  {
   "cell_type": "markdown",
   "id": "68d9ede7-5717-4497-b2f6-f559a78c3ed1",
   "metadata": {},
   "source": [
    "## 8. Solve the Class imbalance for the data"
   ]
  },
  {
   "cell_type": "markdown",
   "id": "a137f9a0-709c-4546-ac2c-8b6f93fa1878",
   "metadata": {},
   "source": [
    "Since the Test_vlaues does not have corresponding X_label therefore I will split the train data further to train and test split"
   ]
  },
  {
   "cell_type": "code",
   "execution_count": null,
   "id": "a47aeae0-0485-4508-825c-d328356addad",
   "metadata": {},
   "outputs": [],
   "source": [
    "# Initialize the ClassImbalanceSolver with the training dataset and target column\n",
    "imbalancer = ClassImbalanceSolver(df_train_final, target_column='Status_Group')\n",
    "\n",
    "# Apply SMOTE to handle class imbalance and get the resampled data\n",
    "X_train_resampled, y_train_resampled = imbalancer.apply_smote()\n",
    "# Visualize class distribution before and after SMOTE \n",
    "imbalancer.visualize_class_distribution()"
   ]
  },
  {
   "cell_type": "markdown",
   "id": "669ce52e-c1c2-40a7-bb84-6724638e7b46",
   "metadata": {},
   "source": [
    "## 9. Standardize the data using StandardScaler"
   ]
  },
  {
   "cell_type": "code",
   "execution_count": null,
   "id": "ab7a300b-dd43-4639-b65a-999c8a21d275",
   "metadata": {},
   "outputs": [],
   "source": [
    "# Initialize the DataScaler with the resampled data (X_train_resampled and X_test)\n",
    "scaler = DataScaler(X_train_resampled, X_test)\n",
    "\n",
    "# Scale the data using StandardScaler\n",
    "X_train_scaled, X_test_scaled = scaler.scale_data()"
   ]
  },
  {
   "cell_type": "markdown",
   "id": "8b9b4c43-c70c-4361-a5ea-65670bdf4ac6",
   "metadata": {},
   "source": [
    "## 10 .Outputting the dataframes ready for modeling"
   ]
  },
  {
   "cell_type": "code",
   "execution_count": null,
   "id": "ea473fc5-20b7-4b56-95a7-0a152399f181",
   "metadata": {},
   "outputs": [],
   "source": [
    "# Initialize the OutputPreprocessedData class with the scaled data and labels\n",
    "outputter = OutputPreprocessedData(\n",
    "    X_train_scaled, X_test_scaled, \n",
    "    y_train_resampled, y_test,  # Resampled y_train and y_test\n",
    "    output_path=\"Preprocessed Data/\"\n",
    ")\n",
    "\n",
    "# Save the data to the output folder\n",
    "outputter.save_data()"
   ]
  },
  {
   "cell_type": "code",
   "execution_count": null,
   "id": "9f33f28a-6a1a-4523-80eb-0f2cb66b1a45",
   "metadata": {},
   "outputs": [],
   "source": []
  }
 ],
 "metadata": {
  "kernelspec": {
   "display_name": "Python 3 (ipykernel)",
   "language": "python",
   "name": "python3"
  },
  "language_info": {
   "codemirror_mode": {
    "name": "ipython",
    "version": 3
   },
   "file_extension": ".py",
   "mimetype": "text/x-python",
   "name": "python",
   "nbconvert_exporter": "python",
   "pygments_lexer": "ipython3",
   "version": "3.12.3"
  }
 },
 "nbformat": 4,
 "nbformat_minor": 5
}
